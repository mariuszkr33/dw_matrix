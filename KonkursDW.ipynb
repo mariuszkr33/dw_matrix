{
  "nbformat": 4,
  "nbformat_minor": 0,
  "metadata": {
    "colab": {
      "name": "KonkursDW.ipynb",
      "provenance": [],
      "collapsed_sections": [],
      "authorship_tag": "ABX9TyOY8Hqw2z5bSiifc2n5Ezpf",
      "include_colab_link": true
    },
    "kernelspec": {
      "name": "python3",
      "display_name": "Python 3"
    },
    "language_info": {
      "name": "python"
    }
  },
  "cells": [
    {
      "cell_type": "markdown",
      "metadata": {
        "id": "view-in-github",
        "colab_type": "text"
      },
      "source": [
        "<a href=\"https://colab.research.google.com/github/mariuszkr33/dw_matrix/blob/master/KonkursDW.ipynb\" target=\"_parent\"><img src=\"https://colab.research.google.com/assets/colab-badge.svg\" alt=\"Open In Colab\"/></a>"
      ]
    },
    {
      "cell_type": "code",
      "execution_count": null,
      "metadata": {
        "id": "WAkOaV8Eci3D"
      },
      "outputs": [],
      "source": [
        "import pandas as pd\n",
        "import numpy as np\n",
        "np.random.seed(0)\n",
        "\n",
        "from sklearn.metrics import mean_absolute_error\n",
        "\n",
        "from sklearn.dummy import DummyRegressor\n",
        "from sklearn.tree import DecisionTreeRegressor\n",
        "import xgboost as xgb\n",
        "\n",
        "from sklearn.model_selection import KFold\n",
        "\n",
        "import sys\n",
        "import matplotlib.pyplot as plt\n",
        "from sklearn.model_selection import learning_curve\n",
        "\n",
        "from sklearn.model_selection import train_test_split, StratifiedKFold"
      ]
    },
    {
      "cell_type": "code",
      "source": [
        "train = pd.read_hdf('../input/property.train.h5')\n",
        "test = pd.read_hdf('../input/property.test.h5') #zbiór testowy bez odpowiedzi\n",
        "df_all = pd.concat([train, test], axis=0)\n",
        "print(\"train & test: \", train.shape, test.shape)"
      ],
      "metadata": {
        "id": "C5I_clEec3Vr"
      },
      "execution_count": null,
      "outputs": []
    },
    {
      "cell_type": "code",
      "source": [
        "all_breadcrumbs = set()\n",
        "\n",
        "def extract_b(b): \n",
        "    for value in b:\n",
        "        all_breadcrumbs.add(value)\n",
        "    \n",
        "_ = df_all['breadcrumbs'].map(extract_b)\n",
        "\n",
        "all_breadcrumbs"
      ],
      "metadata": {
        "id": "IMyGJAmadAYu"
      },
      "execution_count": null,
      "outputs": []
    },
    {
      "cell_type": "code",
      "source": [
        "idx_breadcrumbs, labels_breadcrumbs = pd.factorize( list(all_breadcrumbs) )\n",
        "\n",
        "for idx_breadcrumb in idx_breadcrumbs:\n",
        "    cat_name = '_cat_breadcrumb_{0}'.format( labels_breadcrumbs[idx_breadcrumb].replace(' ', '_') )\n",
        "    ben_label = labels_breadcrumbs[idx_breadcrumb]\n",
        "    \n",
        "    df_all[cat_name] = df_all['breadcrumbs'].map(lambda x: int(ben_label in x))"
      ],
      "metadata": {
        "id": "631HivbGdDh_"
      },
      "execution_count": null,
      "outputs": []
    },
    {
      "cell_type": "code",
      "source": [
        "print(\"extract geo_block\")    \n",
        "def extract_geoblock(vals):\n",
        "    vals = vals[: int(len(vals) / 2)]\n",
        "    return {\"geo_block_{}\".format(idx):val.strip().lower() for idx, val in enumerate(vals)}\n",
        "\n",
        "df_geo_block = df_all[\"geo_block\"].map(extract_geoblock).apply(pd.Series)\n",
        "df_all = pd.concat([df_all, df_geo_block], axis=1)\n",
        "\n",
        "feats_geo_block = [ x for x in df_geo_block.columns]\n",
        "for f in feats_geo_block:\n",
        "    df_all[\"{}_cat\".format(f)] = df_all[f].factorize()[0]"
      ],
      "metadata": {
        "id": "8UezcHcddGiq"
      },
      "execution_count": null,
      "outputs": []
    },
    {
      "cell_type": "code",
      "source": [
        "factorize_feats = [f for f in train.columns if \":\" in f]\n",
        "for feat in factorize_feats:\n",
        "    df_all[\"{}_cat\".format(feat)] = df_all[feat].factorize()[0]\n",
        "    \n",
        "feats = [x for x in df_all.columns if \"_cat\" in x]\n",
        "print(\"feats: \", feats)\n",
        "df_train, df_test = df_all[ False ==  df_all[\"price\"].isnull() ], df_all[ df_all[\"price\"].isnull() ]\n",
        "X_train, X_test = df_train[feats].values, df_test[feats].values\n",
        "y_train = df_train[\"price\"].values\n",
        "y_log_train = np.log(y_train)\n",
        "\n",
        "print(\"train model\")\n",
        "model = xgb.XGBRegressor(colsample_bytree=0.86, learning_rate=0.14, max_depth=19, min_child_weight=3.0, random_state=1200, reg_alpha=1.62, reg_lambda=0.8948, subsample=0.8697)\n",
        "model.fit(X_train, y_log_train)\n",
        "\n",
        "print(\"predict\")\n",
        "y_log_pred = model.predict(X_test)\n",
        "y_pred = np.exp(y_log_pred)\n",
        "\n",
        "\n",
        "print(\"save file\")\n",
        "test['price'] = y_pred\n",
        "test[ ['id', 'price'] ].to_csv('simple_xgboost.csv', index=False) "
      ],
      "metadata": {
        "id": "QCdwjKB3dJL8"
      },
      "execution_count": null,
      "outputs": []
    },
    {
      "cell_type": "code",
      "source": [
        "import scikitplot as skplt"
      ],
      "metadata": {
        "id": "kzZKVQI0dWNt"
      },
      "execution_count": null,
      "outputs": []
    },
    {
      "cell_type": "code",
      "source": [
        "skplt.estimators.plot_feature_importances(model, feature_names=feats, x_tick_rotation=90, figsize=(15, 5));"
      ],
      "metadata": {
        "id": "NqBBZeo-dZil"
      },
      "execution_count": null,
      "outputs": []
    },
    {
      "cell_type": "code",
      "source": [
        "skplt.estimators.plot_learning_curve(model, X, y, figsize=(15, 5), cv=3, scoring='accuracy');"
      ],
      "metadata": {
        "id": "szdPHDBydcB2"
      },
      "execution_count": null,
      "outputs": []
    },
    {
      "cell_type": "code",
      "source": [
        "from functools import partial\n",
        "from hyperopt import hp, fmin, tpe, STATUS_OK, Trials"
      ],
      "metadata": {
        "id": "J7beXzLDdgwu"
      },
      "execution_count": null,
      "outputs": []
    },
    {
      "cell_type": "code",
      "source": [
        "X_train, X_test, y_train, y_test = train_test_split(X_train, y_train, test_size=0.3)"
      ],
      "metadata": {
        "id": "brtWMMHpdkEC"
      },
      "execution_count": null,
      "outputs": []
    },
    {
      "cell_type": "code",
      "source": [
        "def objective(space):\n",
        "    \n",
        "    xgb_params = {\n",
        "        'max_depth': int(space['max_depth']),\n",
        "        'colsample_bytree': space['colsample_bytree'],\n",
        "        'learning_rate': space['learning_rate'],\n",
        "        'subsample': space['subsample'],\n",
        "        'random_state': int(space['random_state']),\n",
        "        'min_child_weight': int(space['min_child_weight']),\n",
        "        'reg_alpha': space['reg_alpha'],\n",
        "        'reg_lambda': space['reg_lambda'],\n",
        "        'n_estimators': 100,\n",
        "        'objective': 'reg:squarederror'\n",
        "    }\n",
        "    \n",
        "    model = xgb.XGBRegressor(**xgb_params)\n",
        "    model.fit(X_train, y_train)\n",
        "    y_pred = model.predict(X_test)\n",
        "    \n",
        "    score = mean_absolute_error(y_test, y_pred)\n",
        "    \n",
        "    return{'loss':score, 'status': STATUS_OK }\n",
        "    \n",
        "space ={\n",
        "    'max_depth': hp.quniform ('x_max_depth', 5, 20, 1),\n",
        "    'colsample_bytree': hp.uniform ('x_colsample_bytree', 0.8, 1.),\n",
        "    'learning_rate': hp.uniform ('x_learning_rate', 0.05, 0.2),\n",
        "    'subsample': hp.uniform ('x_subsample', 0.7, 1.),\n",
        "    'random_state': hp.quniform ('x_random_state', 0, 10000, 50),\n",
        "    'min_child_weight': hp.quniform ('x_min_child_weight', 1, 10, 1),\n",
        "    'reg_alpha': hp.loguniform ('x_reg_alpha', 0., 1.),\n",
        "    'reg_lambda': hp.uniform ('x_reg_lambda', 0.7, 1.),\n",
        "}\n",
        "\n",
        "\n",
        "trials = Trials()\n",
        "best_params = fmin(fn=objective,\n",
        "            space=space,\n",
        "            algo=partial(tpe.suggest, n_startup_jobs=1),\n",
        "            max_evals=30,\n",
        "            trials=trials)\n",
        "\n",
        "print(\"The best params: \", best_params)"
      ],
      "metadata": {
        "id": "IL70tTbKdm3s"
      },
      "execution_count": null,
      "outputs": []
    },
    {
      "cell_type": "code",
      "source": [
        "trials.best_trial"
      ],
      "metadata": {
        "id": "R9ORBsO0drOI"
      },
      "execution_count": null,
      "outputs": []
    },
    {
      "cell_type": "code",
      "source": [
        "all_geo_block = set()\n",
        "\n",
        "def extract_g(g): \n",
        "    for value in g:\n",
        "        all_geo_block.add(value)\n",
        "    \n",
        "__ = df_all['geo_block'].map(extract_g)\n",
        "\n",
        "all_geo_block"
      ],
      "metadata": {
        "id": "8YDR32hsdugX"
      },
      "execution_count": null,
      "outputs": []
    },
    {
      "cell_type": "code",
      "source": [
        "len(all_geo_block)"
      ],
      "metadata": {
        "id": "xDvpXYMkd5Aw"
      },
      "execution_count": null,
      "outputs": []
    },
    {
      "cell_type": "code",
      "source": [
        "idx_geo_blocks, labels_geo_blocks = pd.factorize( list(all_geo_block) )\n",
        "\n",
        "for idx_geo_block in idx_geo_blocks:\n",
        "    cat_name = '_cat_geo_block_{0}'.format( labels_geo_blocks[idx_geo_block].replace(' ', '_') )\n",
        "    ben_label = labels_geo_blocks[idx_geo_block]\n",
        "    \n",
        "    df_all[cat_name] = df_all['geo_block'].map(lambda x: int(ben_label in x))"
      ],
      "metadata": {
        "id": "_PW_-TBKd7Qv"
      },
      "execution_count": null,
      "outputs": []
    },
    {
      "cell_type": "code",
      "source": [
        "df_all.head()"
      ],
      "metadata": {
        "id": "wkZnxwgYd9pU"
      },
      "execution_count": null,
      "outputs": []
    },
    {
      "cell_type": "code",
      "source": [
        "all_breadcrumbs = set()\n",
        "\n",
        "def extract_b(b): \n",
        "    for value in b:\n",
        "        all_breadcrumbs.add(value)\n",
        "    \n",
        "_ = train['breadcrumbs'].map(extract_b)\n",
        "\n",
        "all_breadcrumbs"
      ],
      "metadata": {
        "id": "enNDryKed_Zd"
      },
      "execution_count": null,
      "outputs": []
    },
    {
      "cell_type": "code",
      "source": [
        "len(all_breadcrumbs)"
      ],
      "metadata": {
        "id": "NnoPCXDLeCH1"
      },
      "execution_count": null,
      "outputs": []
    },
    {
      "cell_type": "code",
      "source": [
        "idx_breadcrumbs, labels_breadcrumbs = pd.factorize( list(all_breadcrumbs) )\n",
        "\n",
        "for idx_breadcrumb in idx_breadcrumbs:\n",
        "    cat_name = 'breadcrumb_{0}'.format( labels_breadcrumbs[idx_breadcrumb].replace(' ', '_') )\n",
        "    ben_label = labels_breadcrumbs[idx_breadcrumb]\n",
        "    \n",
        "    train[cat_name] = train['breadcrumbs'].map(lambda x: int(ben_label in x))"
      ],
      "metadata": {
        "id": "sIXKqgzHeFTa"
      },
      "execution_count": null,
      "outputs": []
    },
    {
      "cell_type": "code",
      "source": [
        "train.head()"
      ],
      "metadata": {
        "id": "EmxhPHpReHop"
      },
      "execution_count": null,
      "outputs": []
    },
    {
      "cell_type": "code",
      "source": [
        "df_train['price_log'] = np.log( df_train['price'] )"
      ],
      "metadata": {
        "id": "Zyj9GI6meJbz"
      },
      "execution_count": null,
      "outputs": []
    },
    {
      "cell_type": "code",
      "source": [
        "X_train, X_test, y_train, y_test = train_test_split(df_train[feats],df_train[['price_log']],test_size=0.3315779464899577)\n",
        "model = xgb.XGBRegressor(n_estimators=70, learning_rate=0.2, max_depth=10, random_state=0)\n",
        "model.fit(X_train, y_train)\n",
        "y_pred = model.predict(X_test)\n",
        "mean_absolute_error(y_test['price_log'], model.predict(X_test))"
      ],
      "metadata": {
        "id": "zUYKvG1neMVy"
      },
      "execution_count": null,
      "outputs": []
    },
    {
      "cell_type": "code",
      "source": [
        "y_pred[y_pred<0] = y_train.min()\n",
        "print(\"save file\")\n",
        "test['price'] = y_pred\n",
        "test[ ['id', 'price'] ].to_csv('no_simple_xgboost.csv', index=False)"
      ],
      "metadata": {
        "id": "1flDOI6EeO_m"
      },
      "execution_count": null,
      "outputs": []
    }
  ]
}