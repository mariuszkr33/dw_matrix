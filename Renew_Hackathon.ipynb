{
  "cells": [
    {
      "cell_type": "markdown",
      "metadata": {
        "id": "view-in-github",
        "colab_type": "text"
      },
      "source": [
        "<a href=\"https://colab.research.google.com/github/mariuszkr33/dw_matrix/blob/master/Renew_Hackathon.ipynb\" target=\"_parent\"><img src=\"https://colab.research.google.com/assets/colab-badge.svg\" alt=\"Open In Colab\"/></a>"
      ]
    },
    {
      "cell_type": "code",
      "execution_count": null,
      "metadata": {
        "id": "3P9WcpvAeTfb",
        "colab": {
          "base_uri": "https://localhost:8080/",
          "height": 392
        },
        "outputId": "a5030e21-85d3-4879-c9cb-972e6303d1b6"
      },
      "outputs": [
        {
          "output_type": "error",
          "ename": "ModuleNotFoundError",
          "evalue": "ignored",
          "traceback": [
            "\u001b[0;31m---------------------------------------------------------------------------\u001b[0m",
            "\u001b[0;31mModuleNotFoundError\u001b[0m                       Traceback (most recent call last)",
            "\u001b[0;32m<ipython-input-47-af202d76b0c4>\u001b[0m in \u001b[0;36m<module>\u001b[0;34m\u001b[0m\n\u001b[1;32m      6\u001b[0m \u001b[0;32mfrom\u001b[0m \u001b[0msklearn\u001b[0m\u001b[0;34m.\u001b[0m\u001b[0mmetrics\u001b[0m \u001b[0;32mimport\u001b[0m \u001b[0mmean_squared_error\u001b[0m\u001b[0;34m\u001b[0m\u001b[0;34m\u001b[0m\u001b[0m\n\u001b[1;32m      7\u001b[0m \u001b[0;32mfrom\u001b[0m \u001b[0msklearn\u001b[0m\u001b[0;34m.\u001b[0m\u001b[0mlinear_model\u001b[0m \u001b[0;32mimport\u001b[0m \u001b[0mLinearRegression\u001b[0m\u001b[0;34m\u001b[0m\u001b[0;34m\u001b[0m\u001b[0m\n\u001b[0;32m----> 8\u001b[0;31m \u001b[0;32mimport\u001b[0m \u001b[0mscikitplot\u001b[0m \u001b[0;32mas\u001b[0m \u001b[0mskplt\u001b[0m\u001b[0;34m\u001b[0m\u001b[0;34m\u001b[0m\u001b[0m\n\u001b[0m\u001b[1;32m      9\u001b[0m \u001b[0;31m#import eli5\u001b[0m\u001b[0;34m\u001b[0m\u001b[0;34m\u001b[0m\u001b[0;34m\u001b[0m\u001b[0m\n\u001b[1;32m     10\u001b[0m \u001b[0;34m\u001b[0m\u001b[0m\n",
            "\u001b[0;31mModuleNotFoundError\u001b[0m: No module named 'scikitplot'",
            "",
            "\u001b[0;31m---------------------------------------------------------------------------\u001b[0;32m\nNOTE: If your import is failing due to a missing package, you can\nmanually install dependencies using either !pip or !apt.\n\nTo view examples of installing some common dependencies, click the\n\"Open Examples\" button below.\n\u001b[0;31m---------------------------------------------------------------------------\u001b[0m\n"
          ],
          "errorDetails": {
            "actions": [
              {
                "action": "open_url",
                "actionText": "Open Examples",
                "url": "/notebooks/snippets/importing_libraries.ipynb"
              }
            ]
          }
        }
      ],
      "source": [
        "import pandas as pd\n",
        "import numpy as np\n",
        "np.random.seed(0)\n",
        "\n",
        "from sklearn.model_selection import cross_val_score, train_test_split, GroupKFold\n",
        "from sklearn.metrics import mean_squared_error\n",
        "from sklearn.linear_model import LinearRegression\n",
        "#import scikitplot as skplt\n",
        "#import eli5\n",
        "\n",
        "import xgboost as xgb\n",
        "\n",
        "import matplotlib.pyplot as plt\n",
        "import seaborn as sns\n",
        "%matplotlib inline"
      ]
    },
    {
      "cell_type": "code",
      "execution_count": null,
      "metadata": {
        "colab": {
          "base_uri": "https://localhost:8080/"
        },
        "id": "8BdeuOM6elw-",
        "outputId": "19e9b162-7024-4b02-c83c-bd8db8153c52"
      },
      "outputs": [
        {
          "output_type": "stream",
          "name": "stdout",
          "text": [
            "Drive already mounted at /content/drive; to attempt to forcibly remount, call drive.mount(\"/content/drive\", force_remount=True).\n"
          ]
        }
      ],
      "source": [
        "from google.colab import drive\n",
        "drive.mount('/content/drive')"
      ]
    },
    {
      "cell_type": "code",
      "execution_count": null,
      "metadata": {
        "id": "gnE_X8kHeoNP"
      },
      "outputs": [],
      "source": [
        "df_train = pd.read_csv(r'/content/drive/MyDrive/ReNew_Participants_Data/train.csv')\n",
        "df_test = pd.read_csv(r'/content/drive/MyDrive/ReNew_Participants_Data/test.csv')"
      ]
    },
    {
      "cell_type": "code",
      "execution_count": null,
      "metadata": {
        "colab": {
          "base_uri": "https://localhost:8080/"
        },
        "id": "t17HxOsNerL_",
        "outputId": "9866400f-9562-4345-9db0-f83f057b1394"
      },
      "outputs": [
        {
          "output_type": "execute_result",
          "data": {
            "text/plain": [
              "(1212806, 16)"
            ]
          },
          "metadata": {},
          "execution_count": 25
        }
      ],
      "source": [
        "df = pd.concat([df_train, df_test])\n",
        "df.shape"
      ]
    },
    {
      "cell_type": "code",
      "execution_count": null,
      "metadata": {
        "colab": {
          "base_uri": "https://localhost:8080/",
          "height": 357
        },
        "id": "o0GOQMUYet1y",
        "outputId": "b32fcd67-6aff-420b-e2ca-96f33f37ffd6"
      },
      "outputs": [
        {
          "output_type": "execute_result",
          "data": {
            "text/plain": [
              "             timestamp  active_power_calculated_by_converter  \\\n",
              "0  2021-02-19 20:18:00                            816.636759   \n",
              "1  2021-04-27 04:55:00                            419.107829   \n",
              "2  2021-01-25 06:26:00                           1303.530558   \n",
              "3  2021-10-30 03:47:00                             61.494872   \n",
              "4  2021-03-15 00:39:00                            593.514364   \n",
              "\n",
              "   active_power_raw  ambient_temperature  generator_speed  \\\n",
              "0        834.917206            31.694380      1159.616602   \n",
              "1        421.050873            12.894948       928.747996   \n",
              "2       1337.566142            16.648388      1201.219775   \n",
              "3         53.481008            28.388141       769.806122   \n",
              "4        611.659108            31.519527      1046.916768   \n",
              "\n",
              "   generator_winding_temp_max  grid_power10min_average  nc1_inside_temp  \\\n",
              "0                   65.954214               917.897085        31.881972   \n",
              "1                   59.571319               445.554250        32.423705   \n",
              "2                   61.270498              1364.716003        11.446849   \n",
              "3                   40.674348                14.324897        34.253204   \n",
              "4                   64.341763               599.020172        32.405586   \n",
              "\n",
              "   nacelle_temp  reactice_power_calculated_by_converter  reactive_power  \\\n",
              "0     31.504713                              141.457644      165.501518   \n",
              "1     32.755770                               89.186457      113.835236   \n",
              "2     18.332985                              230.622309      281.452253   \n",
              "3     32.662889                               66.211015       75.017531   \n",
              "4     31.466387                              137.163938      160.202421   \n",
              "\n",
              "   wind_direction_raw  wind_speed_raw  wind_speed_turbulence   turbine_id  \\\n",
              "0          280.864782        7.057000               0.544082  Turbine_108   \n",
              "1          299.552460        5.474937               0.469031   Turbine_18   \n",
              "2           84.960106        8.092457               0.622318  Turbine_105   \n",
              "3           87.261119        4.071032               0.760719   Turbine_15   \n",
              "4          313.724818        6.357943               0.346068   Turbine_01   \n",
              "\n",
              "      Target  \n",
              "0  47.582787  \n",
              "1  46.070328  \n",
              "2  39.989236  \n",
              "3  46.056587  \n",
              "4  54.346095  "
            ],
            "text/html": [
              "\n",
              "  <div id=\"df-c97c34cc-3573-4ae4-83cb-4a7229b1db2d\">\n",
              "    <div class=\"colab-df-container\">\n",
              "      <div>\n",
              "<style scoped>\n",
              "    .dataframe tbody tr th:only-of-type {\n",
              "        vertical-align: middle;\n",
              "    }\n",
              "\n",
              "    .dataframe tbody tr th {\n",
              "        vertical-align: top;\n",
              "    }\n",
              "\n",
              "    .dataframe thead th {\n",
              "        text-align: right;\n",
              "    }\n",
              "</style>\n",
              "<table border=\"1\" class=\"dataframe\">\n",
              "  <thead>\n",
              "    <tr style=\"text-align: right;\">\n",
              "      <th></th>\n",
              "      <th>timestamp</th>\n",
              "      <th>active_power_calculated_by_converter</th>\n",
              "      <th>active_power_raw</th>\n",
              "      <th>ambient_temperature</th>\n",
              "      <th>generator_speed</th>\n",
              "      <th>generator_winding_temp_max</th>\n",
              "      <th>grid_power10min_average</th>\n",
              "      <th>nc1_inside_temp</th>\n",
              "      <th>nacelle_temp</th>\n",
              "      <th>reactice_power_calculated_by_converter</th>\n",
              "      <th>reactive_power</th>\n",
              "      <th>wind_direction_raw</th>\n",
              "      <th>wind_speed_raw</th>\n",
              "      <th>wind_speed_turbulence</th>\n",
              "      <th>turbine_id</th>\n",
              "      <th>Target</th>\n",
              "    </tr>\n",
              "  </thead>\n",
              "  <tbody>\n",
              "    <tr>\n",
              "      <th>0</th>\n",
              "      <td>2021-02-19 20:18:00</td>\n",
              "      <td>816.636759</td>\n",
              "      <td>834.917206</td>\n",
              "      <td>31.694380</td>\n",
              "      <td>1159.616602</td>\n",
              "      <td>65.954214</td>\n",
              "      <td>917.897085</td>\n",
              "      <td>31.881972</td>\n",
              "      <td>31.504713</td>\n",
              "      <td>141.457644</td>\n",
              "      <td>165.501518</td>\n",
              "      <td>280.864782</td>\n",
              "      <td>7.057000</td>\n",
              "      <td>0.544082</td>\n",
              "      <td>Turbine_108</td>\n",
              "      <td>47.582787</td>\n",
              "    </tr>\n",
              "    <tr>\n",
              "      <th>1</th>\n",
              "      <td>2021-04-27 04:55:00</td>\n",
              "      <td>419.107829</td>\n",
              "      <td>421.050873</td>\n",
              "      <td>12.894948</td>\n",
              "      <td>928.747996</td>\n",
              "      <td>59.571319</td>\n",
              "      <td>445.554250</td>\n",
              "      <td>32.423705</td>\n",
              "      <td>32.755770</td>\n",
              "      <td>89.186457</td>\n",
              "      <td>113.835236</td>\n",
              "      <td>299.552460</td>\n",
              "      <td>5.474937</td>\n",
              "      <td>0.469031</td>\n",
              "      <td>Turbine_18</td>\n",
              "      <td>46.070328</td>\n",
              "    </tr>\n",
              "    <tr>\n",
              "      <th>2</th>\n",
              "      <td>2021-01-25 06:26:00</td>\n",
              "      <td>1303.530558</td>\n",
              "      <td>1337.566142</td>\n",
              "      <td>16.648388</td>\n",
              "      <td>1201.219775</td>\n",
              "      <td>61.270498</td>\n",
              "      <td>1364.716003</td>\n",
              "      <td>11.446849</td>\n",
              "      <td>18.332985</td>\n",
              "      <td>230.622309</td>\n",
              "      <td>281.452253</td>\n",
              "      <td>84.960106</td>\n",
              "      <td>8.092457</td>\n",
              "      <td>0.622318</td>\n",
              "      <td>Turbine_105</td>\n",
              "      <td>39.989236</td>\n",
              "    </tr>\n",
              "    <tr>\n",
              "      <th>3</th>\n",
              "      <td>2021-10-30 03:47:00</td>\n",
              "      <td>61.494872</td>\n",
              "      <td>53.481008</td>\n",
              "      <td>28.388141</td>\n",
              "      <td>769.806122</td>\n",
              "      <td>40.674348</td>\n",
              "      <td>14.324897</td>\n",
              "      <td>34.253204</td>\n",
              "      <td>32.662889</td>\n",
              "      <td>66.211015</td>\n",
              "      <td>75.017531</td>\n",
              "      <td>87.261119</td>\n",
              "      <td>4.071032</td>\n",
              "      <td>0.760719</td>\n",
              "      <td>Turbine_15</td>\n",
              "      <td>46.056587</td>\n",
              "    </tr>\n",
              "    <tr>\n",
              "      <th>4</th>\n",
              "      <td>2021-03-15 00:39:00</td>\n",
              "      <td>593.514364</td>\n",
              "      <td>611.659108</td>\n",
              "      <td>31.519527</td>\n",
              "      <td>1046.916768</td>\n",
              "      <td>64.341763</td>\n",
              "      <td>599.020172</td>\n",
              "      <td>32.405586</td>\n",
              "      <td>31.466387</td>\n",
              "      <td>137.163938</td>\n",
              "      <td>160.202421</td>\n",
              "      <td>313.724818</td>\n",
              "      <td>6.357943</td>\n",
              "      <td>0.346068</td>\n",
              "      <td>Turbine_01</td>\n",
              "      <td>54.346095</td>\n",
              "    </tr>\n",
              "  </tbody>\n",
              "</table>\n",
              "</div>\n",
              "      <button class=\"colab-df-convert\" onclick=\"convertToInteractive('df-c97c34cc-3573-4ae4-83cb-4a7229b1db2d')\"\n",
              "              title=\"Convert this dataframe to an interactive table.\"\n",
              "              style=\"display:none;\">\n",
              "        \n",
              "  <svg xmlns=\"http://www.w3.org/2000/svg\" height=\"24px\"viewBox=\"0 0 24 24\"\n",
              "       width=\"24px\">\n",
              "    <path d=\"M0 0h24v24H0V0z\" fill=\"none\"/>\n",
              "    <path d=\"M18.56 5.44l.94 2.06.94-2.06 2.06-.94-2.06-.94-.94-2.06-.94 2.06-2.06.94zm-11 1L8.5 8.5l.94-2.06 2.06-.94-2.06-.94L8.5 2.5l-.94 2.06-2.06.94zm10 10l.94 2.06.94-2.06 2.06-.94-2.06-.94-.94-2.06-.94 2.06-2.06.94z\"/><path d=\"M17.41 7.96l-1.37-1.37c-.4-.4-.92-.59-1.43-.59-.52 0-1.04.2-1.43.59L10.3 9.45l-7.72 7.72c-.78.78-.78 2.05 0 2.83L4 21.41c.39.39.9.59 1.41.59.51 0 1.02-.2 1.41-.59l7.78-7.78 2.81-2.81c.8-.78.8-2.07 0-2.86zM5.41 20L4 18.59l7.72-7.72 1.47 1.35L5.41 20z\"/>\n",
              "  </svg>\n",
              "      </button>\n",
              "      \n",
              "  <style>\n",
              "    .colab-df-container {\n",
              "      display:flex;\n",
              "      flex-wrap:wrap;\n",
              "      gap: 12px;\n",
              "    }\n",
              "\n",
              "    .colab-df-convert {\n",
              "      background-color: #E8F0FE;\n",
              "      border: none;\n",
              "      border-radius: 50%;\n",
              "      cursor: pointer;\n",
              "      display: none;\n",
              "      fill: #1967D2;\n",
              "      height: 32px;\n",
              "      padding: 0 0 0 0;\n",
              "      width: 32px;\n",
              "    }\n",
              "\n",
              "    .colab-df-convert:hover {\n",
              "      background-color: #E2EBFA;\n",
              "      box-shadow: 0px 1px 2px rgba(60, 64, 67, 0.3), 0px 1px 3px 1px rgba(60, 64, 67, 0.15);\n",
              "      fill: #174EA6;\n",
              "    }\n",
              "\n",
              "    [theme=dark] .colab-df-convert {\n",
              "      background-color: #3B4455;\n",
              "      fill: #D2E3FC;\n",
              "    }\n",
              "\n",
              "    [theme=dark] .colab-df-convert:hover {\n",
              "      background-color: #434B5C;\n",
              "      box-shadow: 0px 1px 3px 1px rgba(0, 0, 0, 0.15);\n",
              "      filter: drop-shadow(0px 1px 2px rgba(0, 0, 0, 0.3));\n",
              "      fill: #FFFFFF;\n",
              "    }\n",
              "  </style>\n",
              "\n",
              "      <script>\n",
              "        const buttonEl =\n",
              "          document.querySelector('#df-c97c34cc-3573-4ae4-83cb-4a7229b1db2d button.colab-df-convert');\n",
              "        buttonEl.style.display =\n",
              "          google.colab.kernel.accessAllowed ? 'block' : 'none';\n",
              "\n",
              "        async function convertToInteractive(key) {\n",
              "          const element = document.querySelector('#df-c97c34cc-3573-4ae4-83cb-4a7229b1db2d');\n",
              "          const dataTable =\n",
              "            await google.colab.kernel.invokeFunction('convertToInteractive',\n",
              "                                                     [key], {});\n",
              "          if (!dataTable) return;\n",
              "\n",
              "          const docLinkHtml = 'Like what you see? Visit the ' +\n",
              "            '<a target=\"_blank\" href=https://colab.research.google.com/notebooks/data_table.ipynb>data table notebook</a>'\n",
              "            + ' to learn more about interactive tables.';\n",
              "          element.innerHTML = '';\n",
              "          dataTable['output_type'] = 'display_data';\n",
              "          await google.colab.output.renderOutput(dataTable, element);\n",
              "          const docLink = document.createElement('div');\n",
              "          docLink.innerHTML = docLinkHtml;\n",
              "          element.appendChild(docLink);\n",
              "        }\n",
              "      </script>\n",
              "    </div>\n",
              "  </div>\n",
              "  "
            ]
          },
          "metadata": {},
          "execution_count": 26
        }
      ],
      "source": [
        "df.head()"
      ]
    },
    {
      "cell_type": "code",
      "execution_count": null,
      "metadata": {
        "colab": {
          "base_uri": "https://localhost:8080/"
        },
        "id": "j1KToUwbe6wu",
        "outputId": "7507cd38-c571-4d2b-83ae-0c9a4c7268c0"
      },
      "outputs": [
        {
          "output_type": "stream",
          "name": "stdout",
          "text": [
            "<class 'pandas.core.frame.DataFrame'>\n",
            "Int64Index: 1212806 entries, 0 to 303201\n",
            "Data columns (total 16 columns):\n",
            " #   Column                                  Non-Null Count    Dtype  \n",
            "---  ------                                  --------------    -----  \n",
            " 0   timestamp                               1212806 non-null  object \n",
            " 1   active_power_calculated_by_converter    1212806 non-null  float64\n",
            " 2   active_power_raw                        1212806 non-null  float64\n",
            " 3   ambient_temperature                     1212806 non-null  float64\n",
            " 4   generator_speed                         1212806 non-null  float64\n",
            " 5   generator_winding_temp_max              1212806 non-null  float64\n",
            " 6   grid_power10min_average                 1212806 non-null  float64\n",
            " 7   nc1_inside_temp                         1212806 non-null  float64\n",
            " 8   nacelle_temp                            1212806 non-null  float64\n",
            " 9   reactice_power_calculated_by_converter  1212806 non-null  float64\n",
            " 10  reactive_power                          1212806 non-null  float64\n",
            " 11  wind_direction_raw                      1212806 non-null  float64\n",
            " 12  wind_speed_raw                          1212806 non-null  float64\n",
            " 13  wind_speed_turbulence                   1212806 non-null  float64\n",
            " 14  turbine_id                              1212806 non-null  object \n",
            " 15  Target                                  909604 non-null   float64\n",
            "dtypes: float64(14), object(2)\n",
            "memory usage: 157.3+ MB\n"
          ]
        }
      ],
      "source": [
        "df.info()"
      ]
    },
    {
      "cell_type": "code",
      "execution_count": null,
      "metadata": {
        "id": "occNIP1offHl"
      },
      "outputs": [],
      "source": [
        "df['timestamp'] = pd.to_datetime(df['timestamp'])"
      ]
    },
    {
      "cell_type": "code",
      "source": [
        "df = df.sort_values(by=[\"turbine_id\", \"timestamp\"])"
      ],
      "metadata": {
        "id": "fDTe2IpoQtM8"
      },
      "execution_count": null,
      "outputs": []
    },
    {
      "cell_type": "code",
      "execution_count": null,
      "metadata": {
        "colab": {
          "base_uri": "https://localhost:8080/"
        },
        "id": "fRWSdxx6qLyY",
        "outputId": "d0677ffb-72e6-4f28-aa2f-91cbd4b565eb"
      },
      "outputs": [
        {
          "output_type": "stream",
          "name": "stdout",
          "text": [
            "<class 'pandas.core.frame.DataFrame'>\n",
            "Int64Index: 1212806 entries, 0 to 303201\n",
            "Data columns (total 16 columns):\n",
            " #   Column                                  Non-Null Count    Dtype         \n",
            "---  ------                                  --------------    -----         \n",
            " 0   timestamp                               1212806 non-null  datetime64[ns]\n",
            " 1   active_power_calculated_by_converter    1212806 non-null  float64       \n",
            " 2   active_power_raw                        1212806 non-null  float64       \n",
            " 3   ambient_temperature                     1212806 non-null  float64       \n",
            " 4   generator_speed                         1212806 non-null  float64       \n",
            " 5   generator_winding_temp_max              1212806 non-null  float64       \n",
            " 6   grid_power10min_average                 1212806 non-null  float64       \n",
            " 7   nc1_inside_temp                         1212806 non-null  float64       \n",
            " 8   nacelle_temp                            1212806 non-null  float64       \n",
            " 9   reactice_power_calculated_by_converter  1212806 non-null  float64       \n",
            " 10  reactive_power                          1212806 non-null  float64       \n",
            " 11  wind_direction_raw                      1212806 non-null  float64       \n",
            " 12  wind_speed_raw                          1212806 non-null  float64       \n",
            " 13  wind_speed_turbulence                   1212806 non-null  float64       \n",
            " 14  turbine_id                              1212806 non-null  object        \n",
            " 15  Target                                  909604 non-null   float64       \n",
            "dtypes: datetime64[ns](1), float64(14), object(1)\n",
            "memory usage: 157.3+ MB\n"
          ]
        }
      ],
      "source": [
        "df.info()"
      ]
    },
    {
      "cell_type": "code",
      "execution_count": null,
      "metadata": {
        "id": "iqpFBwt8qOJO"
      },
      "outputs": [],
      "source": [
        "df['year'] = df['timestamp'].dt.year\n",
        "df['month'] = df['timestamp'].dt.month\n",
        "df['day'] = df['timestamp'].dt.day\n",
        "df['hour'] = df['timestamp'].dt.hour\n",
        "df['minute'] = df['timestamp'].dt.minute\n",
        "df['dayofyear'] = df['timestamp'].dt.dayofyear\n",
        "df[\"dayofweek\"] = df[\"timestamp\"].dt.dayofweek\n"
      ]
    },
    {
      "cell_type": "code",
      "source": [],
      "metadata": {
        "id": "udJIpQ6UQUOK"
      },
      "execution_count": null,
      "outputs": []
    },
    {
      "cell_type": "code",
      "execution_count": null,
      "metadata": {
        "colab": {
          "base_uri": "https://localhost:8080/",
          "height": 386
        },
        "id": "08qXoCbQrPJ1",
        "outputId": "e3eb1f7b-27e9-4feb-c65f-4695a20a4f38"
      },
      "outputs": [
        {
          "output_type": "execute_result",
          "data": {
            "text/plain": [
              "                 timestamp  active_power_calculated_by_converter  \\\n",
              "45421  2021-01-01 00:01:00                            828.392253   \n",
              "198824 2021-01-01 00:18:00                            806.374471   \n",
              "637710 2021-01-01 00:19:00                            788.036977   \n",
              "145972 2021-01-01 00:29:00                            895.530284   \n",
              "456891 2021-01-01 00:30:00                            915.541250   \n",
              "\n",
              "        active_power_raw  ambient_temperature  generator_speed  \\\n",
              "45421         847.524780            23.749945      1164.353088   \n",
              "198824        822.084910            23.529463      1155.319580   \n",
              "637710        805.983439            23.554084      1145.260596   \n",
              "145972        916.572154            23.536345      1195.360205   \n",
              "456891        939.767242            23.545960      1199.266541   \n",
              "\n",
              "        generator_winding_temp_max  grid_power10min_average  nc1_inside_temp  \\\n",
              "45421                    56.914901               833.398712        23.851615   \n",
              "198824                   56.293666               845.768372        23.738031   \n",
              "637710                   56.114977               842.250692        23.729494   \n",
              "145972                   55.656287               841.382243        23.711153   \n",
              "456891                   55.623487               850.605764        23.719509   \n",
              "\n",
              "        nacelle_temp  reactice_power_calculated_by_converter  ...  turbine_id  \\\n",
              "45421      23.613581                              138.066790  ...           0   \n",
              "198824     23.377838                              133.342974  ...           0   \n",
              "637710     23.390310                              128.261094  ...           0   \n",
              "145972     23.362860                              151.804540  ...           0   \n",
              "456891     23.386191                              151.813978  ...           0   \n",
              "\n",
              "           Target  year  month  day  hour  minute  day_of_year  dayofyear  \\\n",
              "45421   43.430870  2021      1    1     0       1            1          1   \n",
              "198824        NaN  2021      1    1     0      18            1          1   \n",
              "637710  43.448366  2021      1    1     0      19            1          1   \n",
              "145972  43.462683  2021      1    1     0      29            1          1   \n",
              "456891  43.457064  2021      1    1     0      30            1          1   \n",
              "\n",
              "        dayofweek  \n",
              "45421           4  \n",
              "198824          4  \n",
              "637710          4  \n",
              "145972          4  \n",
              "456891          4  \n",
              "\n",
              "[5 rows x 24 columns]"
            ],
            "text/html": [
              "\n",
              "  <div id=\"df-758ecfe9-4448-459b-9f98-590a422e7602\">\n",
              "    <div class=\"colab-df-container\">\n",
              "      <div>\n",
              "<style scoped>\n",
              "    .dataframe tbody tr th:only-of-type {\n",
              "        vertical-align: middle;\n",
              "    }\n",
              "\n",
              "    .dataframe tbody tr th {\n",
              "        vertical-align: top;\n",
              "    }\n",
              "\n",
              "    .dataframe thead th {\n",
              "        text-align: right;\n",
              "    }\n",
              "</style>\n",
              "<table border=\"1\" class=\"dataframe\">\n",
              "  <thead>\n",
              "    <tr style=\"text-align: right;\">\n",
              "      <th></th>\n",
              "      <th>timestamp</th>\n",
              "      <th>active_power_calculated_by_converter</th>\n",
              "      <th>active_power_raw</th>\n",
              "      <th>ambient_temperature</th>\n",
              "      <th>generator_speed</th>\n",
              "      <th>generator_winding_temp_max</th>\n",
              "      <th>grid_power10min_average</th>\n",
              "      <th>nc1_inside_temp</th>\n",
              "      <th>nacelle_temp</th>\n",
              "      <th>reactice_power_calculated_by_converter</th>\n",
              "      <th>...</th>\n",
              "      <th>turbine_id</th>\n",
              "      <th>Target</th>\n",
              "      <th>year</th>\n",
              "      <th>month</th>\n",
              "      <th>day</th>\n",
              "      <th>hour</th>\n",
              "      <th>minute</th>\n",
              "      <th>day_of_year</th>\n",
              "      <th>dayofyear</th>\n",
              "      <th>dayofweek</th>\n",
              "    </tr>\n",
              "  </thead>\n",
              "  <tbody>\n",
              "    <tr>\n",
              "      <th>45421</th>\n",
              "      <td>2021-01-01 00:01:00</td>\n",
              "      <td>828.392253</td>\n",
              "      <td>847.524780</td>\n",
              "      <td>23.749945</td>\n",
              "      <td>1164.353088</td>\n",
              "      <td>56.914901</td>\n",
              "      <td>833.398712</td>\n",
              "      <td>23.851615</td>\n",
              "      <td>23.613581</td>\n",
              "      <td>138.066790</td>\n",
              "      <td>...</td>\n",
              "      <td>0</td>\n",
              "      <td>43.430870</td>\n",
              "      <td>2021</td>\n",
              "      <td>1</td>\n",
              "      <td>1</td>\n",
              "      <td>0</td>\n",
              "      <td>1</td>\n",
              "      <td>1</td>\n",
              "      <td>1</td>\n",
              "      <td>4</td>\n",
              "    </tr>\n",
              "    <tr>\n",
              "      <th>198824</th>\n",
              "      <td>2021-01-01 00:18:00</td>\n",
              "      <td>806.374471</td>\n",
              "      <td>822.084910</td>\n",
              "      <td>23.529463</td>\n",
              "      <td>1155.319580</td>\n",
              "      <td>56.293666</td>\n",
              "      <td>845.768372</td>\n",
              "      <td>23.738031</td>\n",
              "      <td>23.377838</td>\n",
              "      <td>133.342974</td>\n",
              "      <td>...</td>\n",
              "      <td>0</td>\n",
              "      <td>NaN</td>\n",
              "      <td>2021</td>\n",
              "      <td>1</td>\n",
              "      <td>1</td>\n",
              "      <td>0</td>\n",
              "      <td>18</td>\n",
              "      <td>1</td>\n",
              "      <td>1</td>\n",
              "      <td>4</td>\n",
              "    </tr>\n",
              "    <tr>\n",
              "      <th>637710</th>\n",
              "      <td>2021-01-01 00:19:00</td>\n",
              "      <td>788.036977</td>\n",
              "      <td>805.983439</td>\n",
              "      <td>23.554084</td>\n",
              "      <td>1145.260596</td>\n",
              "      <td>56.114977</td>\n",
              "      <td>842.250692</td>\n",
              "      <td>23.729494</td>\n",
              "      <td>23.390310</td>\n",
              "      <td>128.261094</td>\n",
              "      <td>...</td>\n",
              "      <td>0</td>\n",
              "      <td>43.448366</td>\n",
              "      <td>2021</td>\n",
              "      <td>1</td>\n",
              "      <td>1</td>\n",
              "      <td>0</td>\n",
              "      <td>19</td>\n",
              "      <td>1</td>\n",
              "      <td>1</td>\n",
              "      <td>4</td>\n",
              "    </tr>\n",
              "    <tr>\n",
              "      <th>145972</th>\n",
              "      <td>2021-01-01 00:29:00</td>\n",
              "      <td>895.530284</td>\n",
              "      <td>916.572154</td>\n",
              "      <td>23.536345</td>\n",
              "      <td>1195.360205</td>\n",
              "      <td>55.656287</td>\n",
              "      <td>841.382243</td>\n",
              "      <td>23.711153</td>\n",
              "      <td>23.362860</td>\n",
              "      <td>151.804540</td>\n",
              "      <td>...</td>\n",
              "      <td>0</td>\n",
              "      <td>43.462683</td>\n",
              "      <td>2021</td>\n",
              "      <td>1</td>\n",
              "      <td>1</td>\n",
              "      <td>0</td>\n",
              "      <td>29</td>\n",
              "      <td>1</td>\n",
              "      <td>1</td>\n",
              "      <td>4</td>\n",
              "    </tr>\n",
              "    <tr>\n",
              "      <th>456891</th>\n",
              "      <td>2021-01-01 00:30:00</td>\n",
              "      <td>915.541250</td>\n",
              "      <td>939.767242</td>\n",
              "      <td>23.545960</td>\n",
              "      <td>1199.266541</td>\n",
              "      <td>55.623487</td>\n",
              "      <td>850.605764</td>\n",
              "      <td>23.719509</td>\n",
              "      <td>23.386191</td>\n",
              "      <td>151.813978</td>\n",
              "      <td>...</td>\n",
              "      <td>0</td>\n",
              "      <td>43.457064</td>\n",
              "      <td>2021</td>\n",
              "      <td>1</td>\n",
              "      <td>1</td>\n",
              "      <td>0</td>\n",
              "      <td>30</td>\n",
              "      <td>1</td>\n",
              "      <td>1</td>\n",
              "      <td>4</td>\n",
              "    </tr>\n",
              "  </tbody>\n",
              "</table>\n",
              "<p>5 rows × 24 columns</p>\n",
              "</div>\n",
              "      <button class=\"colab-df-convert\" onclick=\"convertToInteractive('df-758ecfe9-4448-459b-9f98-590a422e7602')\"\n",
              "              title=\"Convert this dataframe to an interactive table.\"\n",
              "              style=\"display:none;\">\n",
              "        \n",
              "  <svg xmlns=\"http://www.w3.org/2000/svg\" height=\"24px\"viewBox=\"0 0 24 24\"\n",
              "       width=\"24px\">\n",
              "    <path d=\"M0 0h24v24H0V0z\" fill=\"none\"/>\n",
              "    <path d=\"M18.56 5.44l.94 2.06.94-2.06 2.06-.94-2.06-.94-.94-2.06-.94 2.06-2.06.94zm-11 1L8.5 8.5l.94-2.06 2.06-.94-2.06-.94L8.5 2.5l-.94 2.06-2.06.94zm10 10l.94 2.06.94-2.06 2.06-.94-2.06-.94-.94-2.06-.94 2.06-2.06.94z\"/><path d=\"M17.41 7.96l-1.37-1.37c-.4-.4-.92-.59-1.43-.59-.52 0-1.04.2-1.43.59L10.3 9.45l-7.72 7.72c-.78.78-.78 2.05 0 2.83L4 21.41c.39.39.9.59 1.41.59.51 0 1.02-.2 1.41-.59l7.78-7.78 2.81-2.81c.8-.78.8-2.07 0-2.86zM5.41 20L4 18.59l7.72-7.72 1.47 1.35L5.41 20z\"/>\n",
              "  </svg>\n",
              "      </button>\n",
              "      \n",
              "  <style>\n",
              "    .colab-df-container {\n",
              "      display:flex;\n",
              "      flex-wrap:wrap;\n",
              "      gap: 12px;\n",
              "    }\n",
              "\n",
              "    .colab-df-convert {\n",
              "      background-color: #E8F0FE;\n",
              "      border: none;\n",
              "      border-radius: 50%;\n",
              "      cursor: pointer;\n",
              "      display: none;\n",
              "      fill: #1967D2;\n",
              "      height: 32px;\n",
              "      padding: 0 0 0 0;\n",
              "      width: 32px;\n",
              "    }\n",
              "\n",
              "    .colab-df-convert:hover {\n",
              "      background-color: #E2EBFA;\n",
              "      box-shadow: 0px 1px 2px rgba(60, 64, 67, 0.3), 0px 1px 3px 1px rgba(60, 64, 67, 0.15);\n",
              "      fill: #174EA6;\n",
              "    }\n",
              "\n",
              "    [theme=dark] .colab-df-convert {\n",
              "      background-color: #3B4455;\n",
              "      fill: #D2E3FC;\n",
              "    }\n",
              "\n",
              "    [theme=dark] .colab-df-convert:hover {\n",
              "      background-color: #434B5C;\n",
              "      box-shadow: 0px 1px 3px 1px rgba(0, 0, 0, 0.15);\n",
              "      filter: drop-shadow(0px 1px 2px rgba(0, 0, 0, 0.3));\n",
              "      fill: #FFFFFF;\n",
              "    }\n",
              "  </style>\n",
              "\n",
              "      <script>\n",
              "        const buttonEl =\n",
              "          document.querySelector('#df-758ecfe9-4448-459b-9f98-590a422e7602 button.colab-df-convert');\n",
              "        buttonEl.style.display =\n",
              "          google.colab.kernel.accessAllowed ? 'block' : 'none';\n",
              "\n",
              "        async function convertToInteractive(key) {\n",
              "          const element = document.querySelector('#df-758ecfe9-4448-459b-9f98-590a422e7602');\n",
              "          const dataTable =\n",
              "            await google.colab.kernel.invokeFunction('convertToInteractive',\n",
              "                                                     [key], {});\n",
              "          if (!dataTable) return;\n",
              "\n",
              "          const docLinkHtml = 'Like what you see? Visit the ' +\n",
              "            '<a target=\"_blank\" href=https://colab.research.google.com/notebooks/data_table.ipynb>data table notebook</a>'\n",
              "            + ' to learn more about interactive tables.';\n",
              "          element.innerHTML = '';\n",
              "          dataTable['output_type'] = 'display_data';\n",
              "          await google.colab.output.renderOutput(dataTable, element);\n",
              "          const docLink = document.createElement('div');\n",
              "          docLink.innerHTML = docLinkHtml;\n",
              "          element.appendChild(docLink);\n",
              "        }\n",
              "      </script>\n",
              "    </div>\n",
              "  </div>\n",
              "  "
            ]
          },
          "metadata": {},
          "execution_count": 50
        }
      ],
      "source": [
        "df.head()"
      ]
    },
    {
      "cell_type": "code",
      "execution_count": null,
      "metadata": {
        "colab": {
          "base_uri": "https://localhost:8080/"
        },
        "id": "B5gXrjImsl7v",
        "outputId": "97a9d97f-a1f8-4fb2-b14d-fbdc57b86845"
      },
      "outputs": [
        {
          "output_type": "execute_result",
          "data": {
            "text/plain": [
              "16"
            ]
          },
          "metadata": {},
          "execution_count": 32
        }
      ],
      "source": [
        "df['turbine_id'].nunique()"
      ]
    },
    {
      "cell_type": "code",
      "execution_count": null,
      "metadata": {
        "colab": {
          "base_uri": "https://localhost:8080/"
        },
        "id": "S30cvzWMszwg",
        "outputId": "3670c1a5-2d2a-4826-8f07-c4a11fb2131c"
      },
      "outputs": [
        {
          "output_type": "execute_result",
          "data": {
            "text/plain": [
              "Turbine_15     77581\n",
              "Turbine_18     77202\n",
              "Turbine_97     77024\n",
              "Turbine_120    76870\n",
              "Turbine_158    76782\n",
              "Turbine_105    76649\n",
              "Turbine_108    76422\n",
              "Turbine_103    75926\n",
              "Turbine_14     75894\n",
              "Turbine_139    75820\n",
              "Turbine_13     75586\n",
              "Turbine_20     75456\n",
              "Turbine_19     75054\n",
              "Turbine_123    74908\n",
              "Turbine_10     73422\n",
              "Turbine_01     72210\n",
              "Name: turbine_id, dtype: int64"
            ]
          },
          "metadata": {},
          "execution_count": 33
        }
      ],
      "source": [
        "df['turbine_id'].value_counts()"
      ]
    },
    {
      "cell_type": "code",
      "execution_count": null,
      "metadata": {
        "id": "IF6OtjantJOU"
      },
      "outputs": [],
      "source": [
        "df['turbine_id'] = df['turbine_id'].factorize()[0]"
      ]
    },
    {
      "cell_type": "code",
      "execution_count": null,
      "metadata": {
        "colab": {
          "base_uri": "https://localhost:8080/"
        },
        "id": "t81XMRhYtfOh",
        "outputId": "4f60b85e-3be7-4abe-fd85-1c7e64b824ef"
      },
      "outputs": [
        {
          "output_type": "stream",
          "name": "stdout",
          "text": [
            "<class 'pandas.core.frame.DataFrame'>\n",
            "Int64Index: 1212806 entries, 0 to 303201\n",
            "Data columns (total 22 columns):\n",
            " #   Column                                  Non-Null Count    Dtype         \n",
            "---  ------                                  --------------    -----         \n",
            " 0   timestamp                               1212806 non-null  datetime64[ns]\n",
            " 1   active_power_calculated_by_converter    1212806 non-null  float64       \n",
            " 2   active_power_raw                        1212806 non-null  float64       \n",
            " 3   ambient_temperature                     1212806 non-null  float64       \n",
            " 4   generator_speed                         1212806 non-null  float64       \n",
            " 5   generator_winding_temp_max              1212806 non-null  float64       \n",
            " 6   grid_power10min_average                 1212806 non-null  float64       \n",
            " 7   nc1_inside_temp                         1212806 non-null  float64       \n",
            " 8   nacelle_temp                            1212806 non-null  float64       \n",
            " 9   reactice_power_calculated_by_converter  1212806 non-null  float64       \n",
            " 10  reactive_power                          1212806 non-null  float64       \n",
            " 11  wind_direction_raw                      1212806 non-null  float64       \n",
            " 12  wind_speed_raw                          1212806 non-null  float64       \n",
            " 13  wind_speed_turbulence                   1212806 non-null  float64       \n",
            " 14  turbine_id                              1212806 non-null  int64         \n",
            " 15  Target                                  909604 non-null   float64       \n",
            " 16  year                                    1212806 non-null  int64         \n",
            " 17  month                                   1212806 non-null  int64         \n",
            " 18  day                                     1212806 non-null  int64         \n",
            " 19  hour                                    1212806 non-null  int64         \n",
            " 20  minute                                  1212806 non-null  int64         \n",
            " 21  day_of_year                             1212806 non-null  int64         \n",
            "dtypes: datetime64[ns](1), float64(14), int64(7)\n",
            "memory usage: 212.8 MB\n"
          ]
        }
      ],
      "source": [
        "df.info()"
      ]
    },
    {
      "cell_type": "code",
      "execution_count": null,
      "metadata": {
        "id": "ng3ND_QLwivW",
        "colab": {
          "base_uri": "https://localhost:8080/",
          "height": 265
        },
        "outputId": "896942c2-0262-4e44-891f-94fd4ecef78b"
      },
      "outputs": [
        {
          "output_type": "display_data",
          "data": {
            "text/plain": [
              "<Figure size 432x288 with 1 Axes>"
            ],
            "image/png": "[encoded data removed]"
          },
          "metadata": {
            "needs_background": "light"
          }
        }
      ],
      "source": [
        "df['Target'].hist(bins=50);"
      ]
    },
    {
      "cell_type": "code",
      "execution_count": null,
      "metadata": {
        "id": "6bodYmSFxvDx",
        "colab": {
          "base_uri": "https://localhost:8080/",
          "height": 386
        },
        "outputId": "245e9472-6431-4006-ce63-5834393eed17"
      },
      "outputs": [
        {
          "output_type": "execute_result",
          "data": {
            "text/plain": [
              "            timestamp  active_power_calculated_by_converter  active_power_raw  \\\n",
              "0 2021-01-01 00:01:00                            828.392253        847.524780   \n",
              "1 2021-01-01 00:18:00                            806.374471        822.084910   \n",
              "2 2021-01-01 00:19:00                            788.036977        805.983439   \n",
              "3 2021-01-01 00:29:00                            895.530284        916.572154   \n",
              "4 2021-01-01 00:30:00                            915.541250        939.767242   \n",
              "\n",
              "   ambient_temperature  generator_speed  generator_winding_temp_max  \\\n",
              "0            23.749945      1164.353088                   56.914901   \n",
              "1            23.529463      1155.319580                   56.293666   \n",
              "2            23.554084      1145.260596                   56.114977   \n",
              "3            23.536345      1195.360205                   55.656287   \n",
              "4            23.545960      1199.266541                   55.623487   \n",
              "\n",
              "   grid_power10min_average  nc1_inside_temp  nacelle_temp  \\\n",
              "0               833.398712        23.851615     23.613581   \n",
              "1               845.768372        23.738031     23.377838   \n",
              "2               842.250692        23.729494     23.390310   \n",
              "3               841.382243        23.711153     23.362860   \n",
              "4               850.605764        23.719509     23.386191   \n",
              "\n",
              "   reactice_power_calculated_by_converter  ...  day  hour  minute  \\\n",
              "0                              138.066790  ...    1     0       1   \n",
              "1                              133.342974  ...    1     0      18   \n",
              "2                              128.261094  ...    1     0      19   \n",
              "3                              151.804540  ...    1     0      29   \n",
              "4                              151.813978  ...    1     0      30   \n",
              "\n",
              "   day_of_year  dayofyear  dayofweek       mean      std     median   size  \n",
              "0            1          1          4  46.549006  1.83495  46.639037  76422  \n",
              "1            1          1          4  46.549006  1.83495  46.639037  76422  \n",
              "2            1          1          4  46.549006  1.83495  46.639037  76422  \n",
              "3            1          1          4  46.549006  1.83495  46.639037  76422  \n",
              "4            1          1          4  46.549006  1.83495  46.639037  76422  \n",
              "\n",
              "[5 rows x 28 columns]"
            ],
            "text/html": [
              "\n",
              "  <div id=\"df-17641978-82e8-410e-8fad-a65cc1aca0a9\">\n",
              "    <div class=\"colab-df-container\">\n",
              "      <div>\n",
              "<style scoped>\n",
              "    .dataframe tbody tr th:only-of-type {\n",
              "        vertical-align: middle;\n",
              "    }\n",
              "\n",
              "    .dataframe tbody tr th {\n",
              "        vertical-align: top;\n",
              "    }\n",
              "\n",
              "    .dataframe thead th {\n",
              "        text-align: right;\n",
              "    }\n",
              "</style>\n",
              "<table border=\"1\" class=\"dataframe\">\n",
              "  <thead>\n",
              "    <tr style=\"text-align: right;\">\n",
              "      <th></th>\n",
              "      <th>timestamp</th>\n",
              "      <th>active_power_calculated_by_converter</th>\n",
              "      <th>active_power_raw</th>\n",
              "      <th>ambient_temperature</th>\n",
              "      <th>generator_speed</th>\n",
              "      <th>generator_winding_temp_max</th>\n",
              "      <th>grid_power10min_average</th>\n",
              "      <th>nc1_inside_temp</th>\n",
              "      <th>nacelle_temp</th>\n",
              "      <th>reactice_power_calculated_by_converter</th>\n",
              "      <th>...</th>\n",
              "      <th>day</th>\n",
              "      <th>hour</th>\n",
              "      <th>minute</th>\n",
              "      <th>day_of_year</th>\n",
              "      <th>dayofyear</th>\n",
              "      <th>dayofweek</th>\n",
              "      <th>mean</th>\n",
              "      <th>std</th>\n",
              "      <th>median</th>\n",
              "      <th>size</th>\n",
              "    </tr>\n",
              "  </thead>\n",
              "  <tbody>\n",
              "    <tr>\n",
              "      <th>0</th>\n",
              "      <td>2021-01-01 00:01:00</td>\n",
              "      <td>828.392253</td>\n",
              "      <td>847.524780</td>\n",
              "      <td>23.749945</td>\n",
              "      <td>1164.353088</td>\n",
              "      <td>56.914901</td>\n",
              "      <td>833.398712</td>\n",
              "      <td>23.851615</td>\n",
              "      <td>23.613581</td>\n",
              "      <td>138.066790</td>\n",
              "      <td>...</td>\n",
              "      <td>1</td>\n",
              "      <td>0</td>\n",
              "      <td>1</td>\n",
              "      <td>1</td>\n",
              "      <td>1</td>\n",
              "      <td>4</td>\n",
              "      <td>46.549006</td>\n",
              "      <td>1.83495</td>\n",
              "      <td>46.639037</td>\n",
              "      <td>76422</td>\n",
              "    </tr>\n",
              "    <tr>\n",
              "      <th>1</th>\n",
              "      <td>2021-01-01 00:18:00</td>\n",
              "      <td>806.374471</td>\n",
              "      <td>822.084910</td>\n",
              "      <td>23.529463</td>\n",
              "      <td>1155.319580</td>\n",
              "      <td>56.293666</td>\n",
              "      <td>845.768372</td>\n",
              "      <td>23.738031</td>\n",
              "      <td>23.377838</td>\n",
              "      <td>133.342974</td>\n",
              "      <td>...</td>\n",
              "      <td>1</td>\n",
              "      <td>0</td>\n",
              "      <td>18</td>\n",
              "      <td>1</td>\n",
              "      <td>1</td>\n",
              "      <td>4</td>\n",
              "      <td>46.549006</td>\n",
              "      <td>1.83495</td>\n",
              "      <td>46.639037</td>\n",
              "      <td>76422</td>\n",
              "    </tr>\n",
              "    <tr>\n",
              "      <th>2</th>\n",
              "      <td>2021-01-01 00:19:00</td>\n",
              "      <td>788.036977</td>\n",
              "      <td>805.983439</td>\n",
              "      <td>23.554084</td>\n",
              "      <td>1145.260596</td>\n",
              "      <td>56.114977</td>\n",
              "      <td>842.250692</td>\n",
              "      <td>23.729494</td>\n",
              "      <td>23.390310</td>\n",
              "      <td>128.261094</td>\n",
              "      <td>...</td>\n",
              "      <td>1</td>\n",
              "      <td>0</td>\n",
              "      <td>19</td>\n",
              "      <td>1</td>\n",
              "      <td>1</td>\n",
              "      <td>4</td>\n",
              "      <td>46.549006</td>\n",
              "      <td>1.83495</td>\n",
              "      <td>46.639037</td>\n",
              "      <td>76422</td>\n",
              "    </tr>\n",
              "    <tr>\n",
              "      <th>3</th>\n",
              "      <td>2021-01-01 00:29:00</td>\n",
              "      <td>895.530284</td>\n",
              "      <td>916.572154</td>\n",
              "      <td>23.536345</td>\n",
              "      <td>1195.360205</td>\n",
              "      <td>55.656287</td>\n",
              "      <td>841.382243</td>\n",
              "      <td>23.711153</td>\n",
              "      <td>23.362860</td>\n",
              "      <td>151.804540</td>\n",
              "      <td>...</td>\n",
              "      <td>1</td>\n",
              "      <td>0</td>\n",
              "      <td>29</td>\n",
              "      <td>1</td>\n",
              "      <td>1</td>\n",
              "      <td>4</td>\n",
              "      <td>46.549006</td>\n",
              "      <td>1.83495</td>\n",
              "      <td>46.639037</td>\n",
              "      <td>76422</td>\n",
              "    </tr>\n",
              "    <tr>\n",
              "      <th>4</th>\n",
              "      <td>2021-01-01 00:30:00</td>\n",
              "      <td>915.541250</td>\n",
              "      <td>939.767242</td>\n",
              "      <td>23.545960</td>\n",
              "      <td>1199.266541</td>\n",
              "      <td>55.623487</td>\n",
              "      <td>850.605764</td>\n",
              "      <td>23.719509</td>\n",
              "      <td>23.386191</td>\n",
              "      <td>151.813978</td>\n",
              "      <td>...</td>\n",
              "      <td>1</td>\n",
              "      <td>0</td>\n",
              "      <td>30</td>\n",
              "      <td>1</td>\n",
              "      <td>1</td>\n",
              "      <td>4</td>\n",
              "      <td>46.549006</td>\n",
              "      <td>1.83495</td>\n",
              "      <td>46.639037</td>\n",
              "      <td>76422</td>\n",
              "    </tr>\n",
              "  </tbody>\n",
              "</table>\n",
              "<p>5 rows × 28 columns</p>\n",
              "</div>\n",
              "      <button class=\"colab-df-convert\" onclick=\"convertToInteractive('df-17641978-82e8-410e-8fad-a65cc1aca0a9')\"\n",
              "              title=\"Convert this dataframe to an interactive table.\"\n",
              "              style=\"display:none;\">\n",
              "        \n",
              "  <svg xmlns=\"http://www.w3.org/2000/svg\" height=\"24px\"viewBox=\"0 0 24 24\"\n",
              "       width=\"24px\">\n",
              "    <path d=\"M0 0h24v24H0V0z\" fill=\"none\"/>\n",
              "    <path d=\"M18.56 5.44l.94 2.06.94-2.06 2.06-.94-2.06-.94-.94-2.06-.94 2.06-2.06.94zm-11 1L8.5 8.5l.94-2.06 2.06-.94-2.06-.94L8.5 2.5l-.94 2.06-2.06.94zm10 10l.94 2.06.94-2.06 2.06-.94-2.06-.94-.94-2.06-.94 2.06-2.06.94z\"/><path d=\"M17.41 7.96l-1.37-1.37c-.4-.4-.92-.59-1.43-.59-.52 0-1.04.2-1.43.59L10.3 9.45l-7.72 7.72c-.78.78-.78 2.05 0 2.83L4 21.41c.39.39.9.59 1.41.59.51 0 1.02-.2 1.41-.59l7.78-7.78 2.81-2.81c.8-.78.8-2.07 0-2.86zM5.41 20L4 18.59l7.72-7.72 1.47 1.35L5.41 20z\"/>\n",
              "  </svg>\n",
              "      </button>\n",
              "      \n",
              "  <style>\n",
              "    .colab-df-container {\n",
              "      display:flex;\n",
              "      flex-wrap:wrap;\n",
              "      gap: 12px;\n",
              "    }\n",
              "\n",
              "    .colab-df-convert {\n",
              "      background-color: #E8F0FE;\n",
              "      border: none;\n",
              "      border-radius: 50%;\n",
              "      cursor: pointer;\n",
              "      display: none;\n",
              "      fill: #1967D2;\n",
              "      height: 32px;\n",
              "      padding: 0 0 0 0;\n",
              "      width: 32px;\n",
              "    }\n",
              "\n",
              "    .colab-df-convert:hover {\n",
              "      background-color: #E2EBFA;\n",
              "      box-shadow: 0px 1px 2px rgba(60, 64, 67, 0.3), 0px 1px 3px 1px rgba(60, 64, 67, 0.15);\n",
              "      fill: #174EA6;\n",
              "    }\n",
              "\n",
              "    [theme=dark] .colab-df-convert {\n",
              "      background-color: #3B4455;\n",
              "      fill: #D2E3FC;\n",
              "    }\n",
              "\n",
              "    [theme=dark] .colab-df-convert:hover {\n",
              "      background-color: #434B5C;\n",
              "      box-shadow: 0px 1px 3px 1px rgba(0, 0, 0, 0.15);\n",
              "      filter: drop-shadow(0px 1px 2px rgba(0, 0, 0, 0.3));\n",
              "      fill: #FFFFFF;\n",
              "    }\n",
              "  </style>\n",
              "\n",
              "      <script>\n",
              "        const buttonEl =\n",
              "          document.querySelector('#df-17641978-82e8-410e-8fad-a65cc1aca0a9 button.colab-df-convert');\n",
              "        buttonEl.style.display =\n",
              "          google.colab.kernel.accessAllowed ? 'block' : 'none';\n",
              "\n",
              "        async function convertToInteractive(key) {\n",
              "          const element = document.querySelector('#df-17641978-82e8-410e-8fad-a65cc1aca0a9');\n",
              "          const dataTable =\n",
              "            await google.colab.kernel.invokeFunction('convertToInteractive',\n",
              "                                                     [key], {});\n",
              "          if (!dataTable) return;\n",
              "\n",
              "          const docLinkHtml = 'Like what you see? Visit the ' +\n",
              "            '<a target=\"_blank\" href=https://colab.research.google.com/notebooks/data_table.ipynb>data table notebook</a>'\n",
              "            + ' to learn more about interactive tables.';\n",
              "          element.innerHTML = '';\n",
              "          dataTable['output_type'] = 'display_data';\n",
              "          await google.colab.output.renderOutput(dataTable, element);\n",
              "          const docLink = document.createElement('div');\n",
              "          docLink.innerHTML = docLinkHtml;\n",
              "          element.appendChild(docLink);\n",
              "        }\n",
              "      </script>\n",
              "    </div>\n",
              "  </div>\n",
              "  "
            ]
          },
          "metadata": {},
          "execution_count": 51
        }
      ],
      "source": [
        "df_group = df.groupby([\"turbine_id\"]).agg([\"mean\", \"std\", \"median\", \"size\"])[\"Target\"].reset_index()\n",
        "\n",
        "\n",
        "df_ext = pd.merge(df, df_group, on=[\"turbine_id\"], how=\"left\").fillna(-1)\n",
        "df_ext.head()"
      ]
    },
    {
      "cell_type": "code",
      "execution_count": null,
      "metadata": {
        "id": "GwpMcqv4rYst"
      },
      "outputs": [],
      "source": [
        "feats = df_ext.select_dtypes(\"number\").columns\n",
        "target_list = [\"Target\"]\n",
        "feats = [x for x in feats if x not in target_list]"
      ]
    },
    {
      "cell_type": "code",
      "source": [],
      "metadata": {
        "id": "6I0N91h1Jd7n"
      },
      "execution_count": null,
      "outputs": []
    },
    {
      "cell_type": "code",
      "execution_count": null,
      "metadata": {
        "id": "IyURmEebuAwY",
        "colab": {
          "base_uri": "https://localhost:8080/",
          "height": 434
        },
        "outputId": "97da61c0-d82c-46bd-8a9e-20c63c5151db"
      },
      "outputs": [
        {
          "output_type": "stream",
          "name": "stderr",
          "text": [
            "/usr/local/lib/python3.7/dist-packages/ipykernel_launcher.py:1: UserWarning: Boolean Series key will be reindexed to match DataFrame index.\n",
            "  \"\"\"Entry point for launching an IPython kernel.\n"
          ]
        },
        {
          "output_type": "error",
          "ename": "ValueError",
          "evalue": "ignored",
          "traceback": [
            "\u001b[0;31m---------------------------------------------------------------------------\u001b[0m",
            "\u001b[0;31mValueError\u001b[0m                                Traceback (most recent call last)",
            "\u001b[0;32m<ipython-input-53-433d57170a6f>\u001b[0m in \u001b[0;36m<module>\u001b[0;34m\u001b[0m\n\u001b[0;32m----> 1\u001b[0;31m \u001b[0mdf_train\u001b[0m \u001b[0;34m=\u001b[0m \u001b[0mdf_ext\u001b[0m\u001b[0;34m[\u001b[0m \u001b[0mdf\u001b[0m\u001b[0;34m[\u001b[0m\u001b[0;34m\"Target\"\u001b[0m\u001b[0;34m]\u001b[0m\u001b[0;34m.\u001b[0m\u001b[0mnotnull\u001b[0m\u001b[0;34m(\u001b[0m\u001b[0;34m)\u001b[0m \u001b[0;34m]\u001b[0m\u001b[0;34m.\u001b[0m\u001b[0mcopy\u001b[0m\u001b[0;34m(\u001b[0m\u001b[0;34m)\u001b[0m\u001b[0;34m\u001b[0m\u001b[0;34m\u001b[0m\u001b[0m\n\u001b[0m\u001b[1;32m      2\u001b[0m \u001b[0mdf_test\u001b[0m \u001b[0;34m=\u001b[0m \u001b[0mdf_ext\u001b[0m\u001b[0;34m[\u001b[0m \u001b[0mdf\u001b[0m\u001b[0;34m[\u001b[0m\u001b[0;34m\"Target\"\u001b[0m\u001b[0;34m]\u001b[0m\u001b[0;34m.\u001b[0m\u001b[0misnull\u001b[0m\u001b[0;34m(\u001b[0m\u001b[0;34m)\u001b[0m \u001b[0;34m]\u001b[0m\u001b[0;34m.\u001b[0m\u001b[0mcopy\u001b[0m\u001b[0;34m(\u001b[0m\u001b[0;34m)\u001b[0m\u001b[0;34m\u001b[0m\u001b[0;34m\u001b[0m\u001b[0m\n\u001b[1;32m      3\u001b[0m \u001b[0;34m\u001b[0m\u001b[0m\n\u001b[1;32m      4\u001b[0m \u001b[0mX_train\u001b[0m \u001b[0;34m=\u001b[0m \u001b[0mdf_train\u001b[0m\u001b[0;34m[\u001b[0m\u001b[0mfeats\u001b[0m\u001b[0;34m]\u001b[0m\u001b[0;34m.\u001b[0m\u001b[0mvalues\u001b[0m\u001b[0;34m\u001b[0m\u001b[0;34m\u001b[0m\u001b[0m\n\u001b[1;32m      5\u001b[0m \u001b[0my_train\u001b[0m \u001b[0;34m=\u001b[0m \u001b[0mdf_train\u001b[0m\u001b[0;34m[\u001b[0m\u001b[0;34m\"Target\"\u001b[0m\u001b[0;34m]\u001b[0m\u001b[0;34m.\u001b[0m\u001b[0mvalues\u001b[0m\u001b[0;34m\u001b[0m\u001b[0;34m\u001b[0m\u001b[0m\n",
            "\u001b[0;32m/usr/local/lib/python3.7/dist-packages/pandas/core/frame.py\u001b[0m in \u001b[0;36m__getitem__\u001b[0;34m(self, key)\u001b[0m\n\u001b[1;32m   3447\u001b[0m         \u001b[0;31m# Do we have a (boolean) 1d indexer?\u001b[0m\u001b[0;34m\u001b[0m\u001b[0;34m\u001b[0m\u001b[0;34m\u001b[0m\u001b[0m\n\u001b[1;32m   3448\u001b[0m         \u001b[0;32mif\u001b[0m \u001b[0mcom\u001b[0m\u001b[0;34m.\u001b[0m\u001b[0mis_bool_indexer\u001b[0m\u001b[0;34m(\u001b[0m\u001b[0mkey\u001b[0m\u001b[0;34m)\u001b[0m\u001b[0;34m:\u001b[0m\u001b[0;34m\u001b[0m\u001b[0;34m\u001b[0m\u001b[0m\n\u001b[0;32m-> 3449\u001b[0;31m             \u001b[0;32mreturn\u001b[0m \u001b[0mself\u001b[0m\u001b[0;34m.\u001b[0m\u001b[0m_getitem_bool_array\u001b[0m\u001b[0;34m(\u001b[0m\u001b[0mkey\u001b[0m\u001b[0;34m)\u001b[0m\u001b[0;34m\u001b[0m\u001b[0;34m\u001b[0m\u001b[0m\n\u001b[0m\u001b[1;32m   3450\u001b[0m \u001b[0;34m\u001b[0m\u001b[0m\n\u001b[1;32m   3451\u001b[0m         \u001b[0;31m# We are left with two options: a single key, and a collection of keys,\u001b[0m\u001b[0;34m\u001b[0m\u001b[0;34m\u001b[0m\u001b[0;34m\u001b[0m\u001b[0m\n",
            "\u001b[0;32m/usr/local/lib/python3.7/dist-packages/pandas/core/frame.py\u001b[0m in \u001b[0;36m_getitem_bool_array\u001b[0;34m(self, key)\u001b[0m\n\u001b[1;32m   3500\u001b[0m         \u001b[0;31m# check_bool_indexer will throw exception if Series key cannot\u001b[0m\u001b[0;34m\u001b[0m\u001b[0;34m\u001b[0m\u001b[0;34m\u001b[0m\u001b[0m\n\u001b[1;32m   3501\u001b[0m         \u001b[0;31m# be reindexed to match DataFrame rows\u001b[0m\u001b[0;34m\u001b[0m\u001b[0;34m\u001b[0m\u001b[0;34m\u001b[0m\u001b[0m\n\u001b[0;32m-> 3502\u001b[0;31m         \u001b[0mkey\u001b[0m \u001b[0;34m=\u001b[0m \u001b[0mcheck_bool_indexer\u001b[0m\u001b[0;34m(\u001b[0m\u001b[0mself\u001b[0m\u001b[0;34m.\u001b[0m\u001b[0mindex\u001b[0m\u001b[0;34m,\u001b[0m \u001b[0mkey\u001b[0m\u001b[0;34m)\u001b[0m\u001b[0;34m\u001b[0m\u001b[0;34m\u001b[0m\u001b[0m\n\u001b[0m\u001b[1;32m   3503\u001b[0m         \u001b[0mindexer\u001b[0m \u001b[0;34m=\u001b[0m \u001b[0mkey\u001b[0m\u001b[0;34m.\u001b[0m\u001b[0mnonzero\u001b[0m\u001b[0;34m(\u001b[0m\u001b[0;34m)\u001b[0m\u001b[0;34m[\u001b[0m\u001b[0;36m0\u001b[0m\u001b[0;34m]\u001b[0m\u001b[0;34m\u001b[0m\u001b[0;34m\u001b[0m\u001b[0m\n\u001b[1;32m   3504\u001b[0m         \u001b[0;32mreturn\u001b[0m \u001b[0mself\u001b[0m\u001b[0;34m.\u001b[0m\u001b[0m_take_with_is_copy\u001b[0m\u001b[0;34m(\u001b[0m\u001b[0mindexer\u001b[0m\u001b[0;34m,\u001b[0m \u001b[0maxis\u001b[0m\u001b[0;34m=\u001b[0m\u001b[0;36m0\u001b[0m\u001b[0;34m)\u001b[0m\u001b[0;34m\u001b[0m\u001b[0;34m\u001b[0m\u001b[0m\n",
            "\u001b[0;32m/usr/local/lib/python3.7/dist-packages/pandas/core/indexing.py\u001b[0m in \u001b[0;36mcheck_bool_indexer\u001b[0;34m(index, key)\u001b[0m\n\u001b[1;32m   2383\u001b[0m     \u001b[0mresult\u001b[0m \u001b[0;34m=\u001b[0m \u001b[0mkey\u001b[0m\u001b[0;34m\u001b[0m\u001b[0;34m\u001b[0m\u001b[0m\n\u001b[1;32m   2384\u001b[0m     \u001b[0;32mif\u001b[0m \u001b[0misinstance\u001b[0m\u001b[0;34m(\u001b[0m\u001b[0mkey\u001b[0m\u001b[0;34m,\u001b[0m \u001b[0mABCSeries\u001b[0m\u001b[0;34m)\u001b[0m \u001b[0;32mand\u001b[0m \u001b[0;32mnot\u001b[0m \u001b[0mkey\u001b[0m\u001b[0;34m.\u001b[0m\u001b[0mindex\u001b[0m\u001b[0;34m.\u001b[0m\u001b[0mequals\u001b[0m\u001b[0;34m(\u001b[0m\u001b[0mindex\u001b[0m\u001b[0;34m)\u001b[0m\u001b[0;34m:\u001b[0m\u001b[0;34m\u001b[0m\u001b[0;34m\u001b[0m\u001b[0m\n\u001b[0;32m-> 2385\u001b[0;31m         \u001b[0mresult\u001b[0m \u001b[0;34m=\u001b[0m \u001b[0mresult\u001b[0m\u001b[0;34m.\u001b[0m\u001b[0mreindex\u001b[0m\u001b[0;34m(\u001b[0m\u001b[0mindex\u001b[0m\u001b[0;34m)\u001b[0m\u001b[0;34m\u001b[0m\u001b[0;34m\u001b[0m\u001b[0m\n\u001b[0m\u001b[1;32m   2386\u001b[0m         \u001b[0mmask\u001b[0m \u001b[0;34m=\u001b[0m \u001b[0misna\u001b[0m\u001b[0;34m(\u001b[0m\u001b[0mresult\u001b[0m\u001b[0;34m.\u001b[0m\u001b[0m_values\u001b[0m\u001b[0;34m)\u001b[0m\u001b[0;34m\u001b[0m\u001b[0;34m\u001b[0m\u001b[0m\n\u001b[1;32m   2387\u001b[0m         \u001b[0;32mif\u001b[0m \u001b[0mmask\u001b[0m\u001b[0;34m.\u001b[0m\u001b[0many\u001b[0m\u001b[0;34m(\u001b[0m\u001b[0;34m)\u001b[0m\u001b[0;34m:\u001b[0m\u001b[0;34m\u001b[0m\u001b[0;34m\u001b[0m\u001b[0m\n",
            "\u001b[0;32m/usr/local/lib/python3.7/dist-packages/pandas/core/series.py\u001b[0m in \u001b[0;36mreindex\u001b[0;34m(self, index, **kwargs)\u001b[0m\n\u001b[1;32m   4578\u001b[0m     )\n\u001b[1;32m   4579\u001b[0m     \u001b[0;32mdef\u001b[0m \u001b[0mreindex\u001b[0m\u001b[0;34m(\u001b[0m\u001b[0mself\u001b[0m\u001b[0;34m,\u001b[0m \u001b[0mindex\u001b[0m\u001b[0;34m=\u001b[0m\u001b[0;32mNone\u001b[0m\u001b[0;34m,\u001b[0m \u001b[0;34m**\u001b[0m\u001b[0mkwargs\u001b[0m\u001b[0;34m)\u001b[0m\u001b[0;34m:\u001b[0m\u001b[0;34m\u001b[0m\u001b[0;34m\u001b[0m\u001b[0m\n\u001b[0;32m-> 4580\u001b[0;31m         \u001b[0;32mreturn\u001b[0m \u001b[0msuper\u001b[0m\u001b[0;34m(\u001b[0m\u001b[0;34m)\u001b[0m\u001b[0;34m.\u001b[0m\u001b[0mreindex\u001b[0m\u001b[0;34m(\u001b[0m\u001b[0mindex\u001b[0m\u001b[0;34m=\u001b[0m\u001b[0mindex\u001b[0m\u001b[0;34m,\u001b[0m \u001b[0;34m**\u001b[0m\u001b[0mkwargs\u001b[0m\u001b[0;34m)\u001b[0m\u001b[0;34m\u001b[0m\u001b[0;34m\u001b[0m\u001b[0m\n\u001b[0m\u001b[1;32m   4581\u001b[0m \u001b[0;34m\u001b[0m\u001b[0m\n\u001b[1;32m   4582\u001b[0m     \u001b[0;34m@\u001b[0m\u001b[0mdeprecate_nonkeyword_arguments\u001b[0m\u001b[0;34m(\u001b[0m\u001b[0mversion\u001b[0m\u001b[0;34m=\u001b[0m\u001b[0;32mNone\u001b[0m\u001b[0;34m,\u001b[0m \u001b[0mallowed_args\u001b[0m\u001b[0;34m=\u001b[0m\u001b[0;34m[\u001b[0m\u001b[0;34m\"self\"\u001b[0m\u001b[0;34m,\u001b[0m \u001b[0;34m\"labels\"\u001b[0m\u001b[0;34m]\u001b[0m\u001b[0;34m)\u001b[0m\u001b[0;34m\u001b[0m\u001b[0;34m\u001b[0m\u001b[0m\n",
            "\u001b[0;32m/usr/local/lib/python3.7/dist-packages/pandas/core/generic.py\u001b[0m in \u001b[0;36mreindex\u001b[0;34m(self, *args, **kwargs)\u001b[0m\n\u001b[1;32m   4817\u001b[0m         \u001b[0;31m# perform the reindex on the axes\u001b[0m\u001b[0;34m\u001b[0m\u001b[0;34m\u001b[0m\u001b[0;34m\u001b[0m\u001b[0m\n\u001b[1;32m   4818\u001b[0m         return self._reindex_axes(\n\u001b[0;32m-> 4819\u001b[0;31m             \u001b[0maxes\u001b[0m\u001b[0;34m,\u001b[0m \u001b[0mlevel\u001b[0m\u001b[0;34m,\u001b[0m \u001b[0mlimit\u001b[0m\u001b[0;34m,\u001b[0m \u001b[0mtolerance\u001b[0m\u001b[0;34m,\u001b[0m \u001b[0mmethod\u001b[0m\u001b[0;34m,\u001b[0m \u001b[0mfill_value\u001b[0m\u001b[0;34m,\u001b[0m \u001b[0mcopy\u001b[0m\u001b[0;34m\u001b[0m\u001b[0;34m\u001b[0m\u001b[0m\n\u001b[0m\u001b[1;32m   4820\u001b[0m         ).__finalize__(self, method=\"reindex\")\n\u001b[1;32m   4821\u001b[0m \u001b[0;34m\u001b[0m\u001b[0m\n",
            "\u001b[0;32m/usr/local/lib/python3.7/dist-packages/pandas/core/generic.py\u001b[0m in \u001b[0;36m_reindex_axes\u001b[0;34m(self, axes, level, limit, tolerance, method, fill_value, copy)\u001b[0m\n\u001b[1;32m   4841\u001b[0m                 \u001b[0mfill_value\u001b[0m\u001b[0;34m=\u001b[0m\u001b[0mfill_value\u001b[0m\u001b[0;34m,\u001b[0m\u001b[0;34m\u001b[0m\u001b[0;34m\u001b[0m\u001b[0m\n\u001b[1;32m   4842\u001b[0m                 \u001b[0mcopy\u001b[0m\u001b[0;34m=\u001b[0m\u001b[0mcopy\u001b[0m\u001b[0;34m,\u001b[0m\u001b[0;34m\u001b[0m\u001b[0;34m\u001b[0m\u001b[0m\n\u001b[0;32m-> 4843\u001b[0;31m                 \u001b[0mallow_dups\u001b[0m\u001b[0;34m=\u001b[0m\u001b[0;32mFalse\u001b[0m\u001b[0;34m,\u001b[0m\u001b[0;34m\u001b[0m\u001b[0;34m\u001b[0m\u001b[0m\n\u001b[0m\u001b[1;32m   4844\u001b[0m             )\n\u001b[1;32m   4845\u001b[0m \u001b[0;34m\u001b[0m\u001b[0m\n",
            "\u001b[0;32m/usr/local/lib/python3.7/dist-packages/pandas/core/generic.py\u001b[0m in \u001b[0;36m_reindex_with_indexers\u001b[0;34m(self, reindexers, fill_value, copy, allow_dups)\u001b[0m\n\u001b[1;32m   4887\u001b[0m                 \u001b[0mfill_value\u001b[0m\u001b[0;34m=\u001b[0m\u001b[0mfill_value\u001b[0m\u001b[0;34m,\u001b[0m\u001b[0;34m\u001b[0m\u001b[0;34m\u001b[0m\u001b[0m\n\u001b[1;32m   4888\u001b[0m                 \u001b[0mallow_dups\u001b[0m\u001b[0;34m=\u001b[0m\u001b[0mallow_dups\u001b[0m\u001b[0;34m,\u001b[0m\u001b[0;34m\u001b[0m\u001b[0;34m\u001b[0m\u001b[0m\n\u001b[0;32m-> 4889\u001b[0;31m                 \u001b[0mcopy\u001b[0m\u001b[0;34m=\u001b[0m\u001b[0mcopy\u001b[0m\u001b[0;34m,\u001b[0m\u001b[0;34m\u001b[0m\u001b[0;34m\u001b[0m\u001b[0m\n\u001b[0m\u001b[1;32m   4890\u001b[0m             )\n\u001b[1;32m   4891\u001b[0m             \u001b[0;31m# If we've made a copy once, no need to make another one\u001b[0m\u001b[0;34m\u001b[0m\u001b[0;34m\u001b[0m\u001b[0;34m\u001b[0m\u001b[0m\n",
            "\u001b[0;32m/usr/local/lib/python3.7/dist-packages/pandas/core/internals/managers.py\u001b[0m in \u001b[0;36mreindex_indexer\u001b[0;34m(self, new_axis, indexer, axis, fill_value, allow_dups, copy, consolidate, only_slice)\u001b[0m\n\u001b[1;32m    668\u001b[0m         \u001b[0;31m# some axes don't allow reindexing with dups\u001b[0m\u001b[0;34m\u001b[0m\u001b[0;34m\u001b[0m\u001b[0;34m\u001b[0m\u001b[0m\n\u001b[1;32m    669\u001b[0m         \u001b[0;32mif\u001b[0m \u001b[0;32mnot\u001b[0m \u001b[0mallow_dups\u001b[0m\u001b[0;34m:\u001b[0m\u001b[0;34m\u001b[0m\u001b[0;34m\u001b[0m\u001b[0m\n\u001b[0;32m--> 670\u001b[0;31m             \u001b[0mself\u001b[0m\u001b[0;34m.\u001b[0m\u001b[0maxes\u001b[0m\u001b[0;34m[\u001b[0m\u001b[0maxis\u001b[0m\u001b[0;34m]\u001b[0m\u001b[0;34m.\u001b[0m\u001b[0m_validate_can_reindex\u001b[0m\u001b[0;34m(\u001b[0m\u001b[0mindexer\u001b[0m\u001b[0;34m)\u001b[0m\u001b[0;34m\u001b[0m\u001b[0;34m\u001b[0m\u001b[0m\n\u001b[0m\u001b[1;32m    671\u001b[0m \u001b[0;34m\u001b[0m\u001b[0m\n\u001b[1;32m    672\u001b[0m         \u001b[0;32mif\u001b[0m \u001b[0maxis\u001b[0m \u001b[0;34m>=\u001b[0m \u001b[0mself\u001b[0m\u001b[0;34m.\u001b[0m\u001b[0mndim\u001b[0m\u001b[0;34m:\u001b[0m\u001b[0;34m\u001b[0m\u001b[0;34m\u001b[0m\u001b[0m\n",
            "\u001b[0;32m/usr/local/lib/python3.7/dist-packages/pandas/core/indexes/base.py\u001b[0m in \u001b[0;36m_validate_can_reindex\u001b[0;34m(self, indexer)\u001b[0m\n\u001b[1;32m   3783\u001b[0m         \u001b[0;31m# trying to reindex on an axis with duplicates\u001b[0m\u001b[0;34m\u001b[0m\u001b[0;34m\u001b[0m\u001b[0;34m\u001b[0m\u001b[0m\n\u001b[1;32m   3784\u001b[0m         \u001b[0;32mif\u001b[0m \u001b[0;32mnot\u001b[0m \u001b[0mself\u001b[0m\u001b[0;34m.\u001b[0m\u001b[0m_index_as_unique\u001b[0m \u001b[0;32mand\u001b[0m \u001b[0mlen\u001b[0m\u001b[0;34m(\u001b[0m\u001b[0mindexer\u001b[0m\u001b[0;34m)\u001b[0m\u001b[0;34m:\u001b[0m\u001b[0;34m\u001b[0m\u001b[0;34m\u001b[0m\u001b[0m\n\u001b[0;32m-> 3785\u001b[0;31m             \u001b[0;32mraise\u001b[0m \u001b[0mValueError\u001b[0m\u001b[0;34m(\u001b[0m\u001b[0;34m\"cannot reindex from a duplicate axis\"\u001b[0m\u001b[0;34m)\u001b[0m\u001b[0;34m\u001b[0m\u001b[0;34m\u001b[0m\u001b[0m\n\u001b[0m\u001b[1;32m   3786\u001b[0m \u001b[0;34m\u001b[0m\u001b[0m\n\u001b[1;32m   3787\u001b[0m     def reindex(\n",
            "\u001b[0;31mValueError\u001b[0m: cannot reindex from a duplicate axis"
          ]
        }
      ],
      "source": [
        "df_train = df_ext[ df[\"Target\"].notnull() ].copy()\n",
        "df_test = df_ext[ df[\"Target\"].isnull() ].copy()\n",
        "\n",
        "X_train = df_train[feats].values\n",
        "y_train = df_train[\"Target\"].values\n",
        "X_test = df_test[feats].values"
      ]
    },
    {
      "cell_type": "code",
      "source": [
        "df_train['Target'].hist(bins=50);"
      ],
      "metadata": {
        "colab": {
          "base_uri": "https://localhost:8080/",
          "height": 265
        },
        "id": "9gC4WCELJl1N",
        "outputId": "1276852a-b0eb-4f9b-8350-c7c3d8ecec80"
      },
      "execution_count": null,
      "outputs": [
        {
          "output_type": "display_data",
          "data": {
            "text/plain": [
              "<Figure size 432x288 with 1 Axes>"
            ],
            "image/png": "[encoded data removed]"
          },
          "metadata": {
            "needs_background": "light"
          }
        }
      ]
    },
    {
      "cell_type": "code",
      "execution_count": null,
      "metadata": {
        "id": "z3Rcp4-ay5LO",
        "colab": {
          "base_uri": "https://localhost:8080/",
          "height": 265
        },
        "outputId": "0efd71d8-1cb3-4940-8d74-ebfc0715fe94"
      },
      "outputs": [
        {
          "output_type": "display_data",
          "data": {
            "text/plain": [
              "<Figure size 432x288 with 1 Axes>"
            ],
            "image/png": "[encoded data removed]"
          },
          "metadata": {
            "needs_background": "light"
          }
        }
      ],
      "source": [
        "df_train[\"Target_log\"] = np.log( df_train['Target'] )\n",
        "df_train['Target_log'].hist(bins=50);\n"
      ]
    },
    {
      "cell_type": "code",
      "source": [
        "y_train = df_train[\"Target_log\"].values"
      ],
      "metadata": {
        "id": "zvRSlAvRJxzQ"
      },
      "execution_count": null,
      "outputs": []
    },
    {
      "cell_type": "code",
      "execution_count": null,
      "metadata": {
        "colab": {
          "background_save": true,
          "base_uri": "https://localhost:8080/"
        },
        "id": "CyHpq8QovPFh",
        "outputId": "c2848f7d-9e30-489f-9e80-29cd02678285"
      },
      "outputs": [
        {
          "name": "stdout",
          "output_type": "stream",
          "text": [
            "[05:41:56] WARNING: /workspace/src/objective/regression_obj.cu:152: reg:linear is now deprecated in favor of reg:squarederror.\n",
            "[05:48:08] WARNING: /workspace/src/objective/regression_obj.cu:152: reg:linear is now deprecated in favor of reg:squarederror.\n",
            "[05:54:15] WARNING: /workspace/src/objective/regression_obj.cu:152: reg:linear is now deprecated in favor of reg:squarederror.\n",
            "[05:59:59] WARNING: /workspace/src/objective/regression_obj.cu:152: reg:linear is now deprecated in favor of reg:squarederror.\n",
            "[06:05:21] WARNING: /workspace/src/objective/regression_obj.cu:152: reg:linear is now deprecated in favor of reg:squarederror.\n",
            "score:  -0.036227253841799055 std:  0.009055295837852743\n"
          ]
        }
      ],
      "source": [
        "cv = GroupKFold(n_splits=5)\n",
        "\n",
        "model = xgb.XGBRegressor(max_depth=7, n_estimators=100, learning_rate=0.1, random_state=0)\n",
        "scores = cross_val_score(model, X_train, y_train, groups=df_train[\"turbine_id\"], cv=cv, scoring=\"neg_mean_absolute_percentage_error\")\n",
        "print(\"score: \", np.mean(scores), \"std: \", np.std(scores))"
      ]
    },
    {
      "cell_type": "code",
      "execution_count": null,
      "metadata": {
        "id": "3TCskflhyklr"
      },
      "outputs": [],
      "source": []
    },
    {
      "cell_type": "code",
      "execution_count": null,
      "metadata": {
        "colab": {
          "base_uri": "https://localhost:8080/"
        },
        "id": "Lib5SR3ltnwt",
        "outputId": "4285e767-540d-4b4f-e62f-c656ab0bec22"
      },
      "outputs": [
        {
          "output_type": "stream",
          "name": "stdout",
          "text": [
            "[07:39:41] WARNING: /workspace/src/objective/regression_obj.cu:152: reg:linear is now deprecated in favor of reg:squarederror.\n"
          ]
        }
      ],
      "source": [
        "model = xgb.XGBRegressor(max_depth=7, n_estimators=100,learning_rate=0.1, random_state=0)\n",
        "model.fit(X_train,y_train)\n",
        "y_log_pred = model.predict(X_test)\n"
      ]
    },
    {
      "cell_type": "code",
      "source": [
        "y_pred = np.exp(y_log_pred)"
      ],
      "metadata": {
        "id": "JA4uDZlLK41d"
      },
      "execution_count": null,
      "outputs": []
    },
    {
      "cell_type": "code",
      "execution_count": null,
      "metadata": {
        "id": "QxWKpO-PvzMe",
        "colab": {
          "base_uri": "https://localhost:8080/",
          "height": 190
        },
        "outputId": "abe9fc94-66af-47ed-ad16-188d2e63fbbd"
      },
      "outputs": [
        {
          "output_type": "error",
          "ename": "NameError",
          "evalue": "ignored",
          "traceback": [
            "\u001b[0;31m---------------------------------------------------------------------------\u001b[0m",
            "\u001b[0;31mNameError\u001b[0m                                 Traceback (most recent call last)",
            "\u001b[0;32m<ipython-input-46-f6d018d09dbd>\u001b[0m in \u001b[0;36m<module>\u001b[0;34m\u001b[0m\n\u001b[0;32m----> 1\u001b[0;31m \u001b[0mskplt\u001b[0m\u001b[0;34m.\u001b[0m\u001b[0mestimators\u001b[0m\u001b[0;34m.\u001b[0m\u001b[0mplot_feature_importances\u001b[0m\u001b[0;34m(\u001b[0m\u001b[0mmodel\u001b[0m\u001b[0;34m,\u001b[0m \u001b[0mfeature_names\u001b[0m\u001b[0;34m=\u001b[0m\u001b[0mfeats\u001b[0m\u001b[0;34m,\u001b[0m \u001b[0mx_tick_rotation\u001b[0m\u001b[0;34m=\u001b[0m\u001b[0;36m90\u001b[0m\u001b[0;34m,\u001b[0m \u001b[0mfigsize\u001b[0m\u001b[0;34m=\u001b[0m\u001b[0;34m(\u001b[0m\u001b[0;36m15\u001b[0m\u001b[0;34m,\u001b[0m \u001b[0;36m5\u001b[0m\u001b[0;34m)\u001b[0m\u001b[0;34m)\u001b[0m\u001b[0;34m;\u001b[0m\u001b[0;34m\u001b[0m\u001b[0;34m\u001b[0m\u001b[0m\n\u001b[0m\u001b[1;32m      2\u001b[0m \u001b[0;31m#eli5.show_weights(model, feature_names=feats)\u001b[0m\u001b[0;34m\u001b[0m\u001b[0;34m\u001b[0m\u001b[0;34m\u001b[0m\u001b[0m\n",
            "\u001b[0;31mNameError\u001b[0m: name 'skplt' is not defined"
          ]
        }
      ],
      "source": [
        "skplt.estimators.plot_feature_importances(model, feature_names=feats, x_tick_rotation=90, figsize=(15, 5));\n",
        "#eli5.show_weights(model, feature_names=feats)"
      ]
    },
    {
      "cell_type": "code",
      "execution_count": null,
      "metadata": {
        "id": "rUzSa6uOv4ha"
      },
      "outputs": [],
      "source": [
        "df_test[\"Target\"] = y_pred"
      ]
    },
    {
      "cell_type": "code",
      "execution_count": null,
      "metadata": {
        "id": "h8RGliwZtm9j"
      },
      "outputs": [],
      "source": [
        "df_test[ [\"Target\"] ].to_csv('../content/drive/MyDrive/ReNew_Participants_Data/simple_submission_log.csv', index=False)"
      ]
    },
    {
      "cell_type": "code",
      "execution_count": null,
      "metadata": {
        "id": "f8znlTshxd3A"
      },
      "outputs": [],
      "source": []
    }
  ],
  "metadata": {
    "colab": {
      "provenance": [],
      "authorship_tag": "ABX9TyPAIcYCamQW8BE36jJTSvDo",
      "include_colab_link": true
    },
    "kernelspec": {
      "display_name": "Python 3",
      "name": "python3"
    },
    "language_info": {
      "name": "python"
    }
  },
  "nbformat": 4,
  "nbformat_minor": 0
}