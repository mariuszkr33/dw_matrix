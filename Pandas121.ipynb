{
  "nbformat": 4,
  "nbformat_minor": 0,
  "metadata": {
    "colab": {
      "name": "Pandas121.ipynb",
      "provenance": [],
      "collapsed_sections": [],
      "authorship_tag": "ABX9TyMp1mRKTile+PQum4HDgpEu",
      "include_colab_link": true
    },
    "kernelspec": {
      "name": "python3",
      "display_name": "Python 3"
    }
  },
  "cells": [
    {
      "cell_type": "markdown",
      "metadata": {
        "id": "view-in-github",
        "colab_type": "text"
      },
      "source": [
        "<a href=\"https://colab.research.google.com/github/mariuszkr33/dw_matrix/blob/master/Pandas121.ipynb\" target=\"_parent\"><img src=\"https://colab.research.google.com/assets/colab-badge.svg\" alt=\"Open In Colab\"/></a>"
      ]
    },
    {
      "cell_type": "code",
      "metadata": {
        "id": "IPsqINidzqk9",
        "colab_type": "code",
        "colab": {}
      },
      "source": [
        ""
      ],
      "execution_count": null,
      "outputs": []
    },
    {
      "cell_type": "code",
      "metadata": {
        "id": "0Vo2H_jt0jay",
        "colab_type": "code",
        "colab": {
          "base_uri": "https://localhost:8080/",
          "height": 91
        },
        "outputId": "1eb38871-701a-44c5-f159-8c0676d54963"
      },
      "source": [
        "import numpy as np\n",
        "import pandas as pd\n",
        "import seaborn as sns\n",
        "\n",
        "\n",
        "sns.set()\n",
        "np.__version__\n"
      ],
      "execution_count": null,
      "outputs": [
        {
          "output_type": "stream",
          "text": [
            "/usr/local/lib/python3.6/dist-packages/statsmodels/tools/_testing.py:19: FutureWarning: pandas.util.testing is deprecated. Use the functions in the public API at pandas.testing instead.\n",
            "  import pandas.util.testing as tm\n"
          ],
          "name": "stderr"
        },
        {
          "output_type": "execute_result",
          "data": {
            "application/vnd.google.colaboratory.intrinsic": {
              "type": "string"
            },
            "text/plain": [
              "'1.18.5'"
            ]
          },
          "metadata": {
            "tags": []
          },
          "execution_count": 2
        }
      ]
    },
    {
      "cell_type": "code",
      "metadata": {
        "id": "bjlqNqwS1W6p",
        "colab_type": "code",
        "colab": {}
      },
      "source": [
        "def fetch_financial_data(company='AMZN'):\n",
        "  \n",
        "  import pandas_datareader.data as web\n",
        "  return web.DataReader(name=company, data_source='stooq')"
      ],
      "execution_count": null,
      "outputs": []
    },
    {
      "cell_type": "code",
      "metadata": {
        "id": "FAI7JSGr1d1S",
        "colab_type": "code",
        "colab": {
          "base_uri": "https://localhost:8080/",
          "height": 450
        },
        "outputId": "f4fa779d-79aa-41ec-9184-7203929bcb19"
      },
      "source": [
        "google = fetch_financial_data(company='GOOGL')\n",
        "google"
      ],
      "execution_count": null,
      "outputs": [
        {
          "output_type": "execute_result",
          "data": {
            "text/html": [
              "<div>\n",
              "<style scoped>\n",
              "    .dataframe tbody tr th:only-of-type {\n",
              "        vertical-align: middle;\n",
              "    }\n",
              "\n",
              "    .dataframe tbody tr th {\n",
              "        vertical-align: top;\n",
              "    }\n",
              "\n",
              "    .dataframe thead th {\n",
              "        text-align: right;\n",
              "    }\n",
              "</style>\n",
              "<table border=\"1\" class=\"dataframe\">\n",
              "  <thead>\n",
              "    <tr style=\"text-align: right;\">\n",
              "      <th></th>\n",
              "      <th>Open</th>\n",
              "      <th>High</th>\n",
              "      <th>Low</th>\n",
              "      <th>Close</th>\n",
              "      <th>Volume</th>\n",
              "    </tr>\n",
              "    <tr>\n",
              "      <th>Date</th>\n",
              "      <th></th>\n",
              "      <th></th>\n",
              "      <th></th>\n",
              "      <th></th>\n",
              "      <th></th>\n",
              "    </tr>\n",
              "  </thead>\n",
              "  <tbody>\n",
              "    <tr>\n",
              "      <th>2020-06-26</th>\n",
              "      <td>1432.63</td>\n",
              "      <td>1437.02</td>\n",
              "      <td>1355.0000</td>\n",
              "      <td>1362.54</td>\n",
              "      <td>4882014</td>\n",
              "    </tr>\n",
              "    <tr>\n",
              "      <th>2020-06-25</th>\n",
              "      <td>1431.22</td>\n",
              "      <td>1442.32</td>\n",
              "      <td>1419.5401</td>\n",
              "      <td>1441.10</td>\n",
              "      <td>1197907</td>\n",
              "    </tr>\n",
              "    <tr>\n",
              "      <th>2020-06-24</th>\n",
              "      <td>1463.28</td>\n",
              "      <td>1475.79</td>\n",
              "      <td>1430.0000</td>\n",
              "      <td>1432.70</td>\n",
              "      <td>1579579</td>\n",
              "    </tr>\n",
              "    <tr>\n",
              "      <th>2020-06-23</th>\n",
              "      <td>1452.00</td>\n",
              "      <td>1475.20</td>\n",
              "      <td>1445.0000</td>\n",
              "      <td>1463.98</td>\n",
              "      <td>1887583</td>\n",
              "    </tr>\n",
              "    <tr>\n",
              "      <th>2020-06-22</th>\n",
              "      <td>1425.01</td>\n",
              "      <td>1450.95</td>\n",
              "      <td>1419.1900</td>\n",
              "      <td>1450.66</td>\n",
              "      <td>1472072</td>\n",
              "    </tr>\n",
              "    <tr>\n",
              "      <th>...</th>\n",
              "      <td>...</td>\n",
              "      <td>...</td>\n",
              "      <td>...</td>\n",
              "      <td>...</td>\n",
              "      <td>...</td>\n",
              "    </tr>\n",
              "    <tr>\n",
              "      <th>2015-07-06</th>\n",
              "      <td>542.25</td>\n",
              "      <td>548.58</td>\n",
              "      <td>542.0900</td>\n",
              "      <td>545.62</td>\n",
              "      <td>1280600</td>\n",
              "    </tr>\n",
              "    <tr>\n",
              "      <th>2015-07-02</th>\n",
              "      <td>544.74</td>\n",
              "      <td>548.00</td>\n",
              "      <td>543.5700</td>\n",
              "      <td>547.34</td>\n",
              "      <td>1406200</td>\n",
              "    </tr>\n",
              "    <tr>\n",
              "      <th>2015-07-01</th>\n",
              "      <td>543.66</td>\n",
              "      <td>545.81</td>\n",
              "      <td>539.7600</td>\n",
              "      <td>543.30</td>\n",
              "      <td>1537900</td>\n",
              "    </tr>\n",
              "    <tr>\n",
              "      <th>2015-06-30</th>\n",
              "      <td>545.09</td>\n",
              "      <td>545.90</td>\n",
              "      <td>539.5400</td>\n",
              "      <td>540.04</td>\n",
              "      <td>1725464</td>\n",
              "    </tr>\n",
              "    <tr>\n",
              "      <th>2015-06-29</th>\n",
              "      <td>546.75</td>\n",
              "      <td>550.90</td>\n",
              "      <td>540.2400</td>\n",
              "      <td>541.25</td>\n",
              "      <td>1887800</td>\n",
              "    </tr>\n",
              "  </tbody>\n",
              "</table>\n",
              "<p>1259 rows × 5 columns</p>\n",
              "</div>"
            ],
            "text/plain": [
              "               Open     High        Low    Close   Volume\n",
              "Date                                                     \n",
              "2020-06-26  1432.63  1437.02  1355.0000  1362.54  4882014\n",
              "2020-06-25  1431.22  1442.32  1419.5401  1441.10  1197907\n",
              "2020-06-24  1463.28  1475.79  1430.0000  1432.70  1579579\n",
              "2020-06-23  1452.00  1475.20  1445.0000  1463.98  1887583\n",
              "2020-06-22  1425.01  1450.95  1419.1900  1450.66  1472072\n",
              "...             ...      ...        ...      ...      ...\n",
              "2015-07-06   542.25   548.58   542.0900   545.62  1280600\n",
              "2015-07-02   544.74   548.00   543.5700   547.34  1406200\n",
              "2015-07-01   543.66   545.81   539.7600   543.30  1537900\n",
              "2015-06-30   545.09   545.90   539.5400   540.04  1725464\n",
              "2015-06-29   546.75   550.90   540.2400   541.25  1887800\n",
              "\n",
              "[1259 rows x 5 columns]"
            ]
          },
          "metadata": {
            "tags": []
          },
          "execution_count": 4
        }
      ]
    },
    {
      "cell_type": "code",
      "metadata": {
        "id": "EJp_H_dk2Uw6",
        "colab_type": "code",
        "colab": {
          "base_uri": "https://localhost:8080/",
          "height": 221
        },
        "outputId": "444f2b31-f642-4b13-9636-a0b8dea99b97"
      },
      "source": [
        "google.info()"
      ],
      "execution_count": null,
      "outputs": [
        {
          "output_type": "stream",
          "text": [
            "<class 'pandas.core.frame.DataFrame'>\n",
            "DatetimeIndex: 1259 entries, 2020-06-26 to 2015-06-29\n",
            "Data columns (total 5 columns):\n",
            " #   Column  Non-Null Count  Dtype  \n",
            "---  ------  --------------  -----  \n",
            " 0   Open    1259 non-null   float64\n",
            " 1   High    1259 non-null   float64\n",
            " 2   Low     1259 non-null   float64\n",
            " 3   Close   1259 non-null   float64\n",
            " 4   Volume  1259 non-null   int64  \n",
            "dtypes: float64(4), int64(1)\n",
            "memory usage: 59.0 KB\n"
          ],
          "name": "stdout"
        }
      ]
    },
    {
      "cell_type": "code",
      "metadata": {
        "id": "lSJfdJIy3pXf",
        "colab_type": "code",
        "colab": {
          "base_uri": "https://localhost:8080/",
          "height": 297
        },
        "outputId": "dace52f1-e7d8-4ceb-8546-f638bcde61eb"
      },
      "source": [
        "pd.set_option('precision',2)\n",
        "google.describe()"
      ],
      "execution_count": null,
      "outputs": [
        {
          "output_type": "execute_result",
          "data": {
            "text/html": [
              "<div>\n",
              "<style scoped>\n",
              "    .dataframe tbody tr th:only-of-type {\n",
              "        vertical-align: middle;\n",
              "    }\n",
              "\n",
              "    .dataframe tbody tr th {\n",
              "        vertical-align: top;\n",
              "    }\n",
              "\n",
              "    .dataframe thead th {\n",
              "        text-align: right;\n",
              "    }\n",
              "</style>\n",
              "<table border=\"1\" class=\"dataframe\">\n",
              "  <thead>\n",
              "    <tr style=\"text-align: right;\">\n",
              "      <th></th>\n",
              "      <th>Open</th>\n",
              "      <th>High</th>\n",
              "      <th>Low</th>\n",
              "      <th>Close</th>\n",
              "      <th>Volume</th>\n",
              "    </tr>\n",
              "  </thead>\n",
              "  <tbody>\n",
              "    <tr>\n",
              "      <th>count</th>\n",
              "      <td>1259.00</td>\n",
              "      <td>1259.00</td>\n",
              "      <td>1259.00</td>\n",
              "      <td>1259.00</td>\n",
              "      <td>1.26e+03</td>\n",
              "    </tr>\n",
              "    <tr>\n",
              "      <th>mean</th>\n",
              "      <td>1005.26</td>\n",
              "      <td>1014.44</td>\n",
              "      <td>995.66</td>\n",
              "      <td>1005.45</td>\n",
              "      <td>1.81e+06</td>\n",
              "    </tr>\n",
              "    <tr>\n",
              "      <th>std</th>\n",
              "      <td>222.88</td>\n",
              "      <td>225.41</td>\n",
              "      <td>220.60</td>\n",
              "      <td>223.21</td>\n",
              "      <td>9.58e+05</td>\n",
              "    </tr>\n",
              "    <tr>\n",
              "      <th>min</th>\n",
              "      <td>542.25</td>\n",
              "      <td>545.81</td>\n",
              "      <td>539.54</td>\n",
              "      <td>540.04</td>\n",
              "      <td>5.21e+05</td>\n",
              "    </tr>\n",
              "    <tr>\n",
              "      <th>25%</th>\n",
              "      <td>798.89</td>\n",
              "      <td>803.41</td>\n",
              "      <td>793.14</td>\n",
              "      <td>798.39</td>\n",
              "      <td>1.22e+06</td>\n",
              "    </tr>\n",
              "    <tr>\n",
              "      <th>50%</th>\n",
              "      <td>1037.72</td>\n",
              "      <td>1050.88</td>\n",
              "      <td>1024.87</td>\n",
              "      <td>1037.14</td>\n",
              "      <td>1.57e+06</td>\n",
              "    </tr>\n",
              "    <tr>\n",
              "      <th>75%</th>\n",
              "      <td>1173.66</td>\n",
              "      <td>1184.58</td>\n",
              "      <td>1163.10</td>\n",
              "      <td>1172.80</td>\n",
              "      <td>2.07e+06</td>\n",
              "    </tr>\n",
              "    <tr>\n",
              "      <th>max</th>\n",
              "      <td>1527.20</td>\n",
              "      <td>1530.74</td>\n",
              "      <td>1520.98</td>\n",
              "      <td>1524.87</td>\n",
              "      <td>1.29e+07</td>\n",
              "    </tr>\n",
              "  </tbody>\n",
              "</table>\n",
              "</div>"
            ],
            "text/plain": [
              "          Open     High      Low    Close    Volume\n",
              "count  1259.00  1259.00  1259.00  1259.00  1.26e+03\n",
              "mean   1005.26  1014.44   995.66  1005.45  1.81e+06\n",
              "std     222.88   225.41   220.60   223.21  9.58e+05\n",
              "min     542.25   545.81   539.54   540.04  5.21e+05\n",
              "25%     798.89   803.41   793.14   798.39  1.22e+06\n",
              "50%    1037.72  1050.88  1024.87  1037.14  1.57e+06\n",
              "75%    1173.66  1184.58  1163.10  1172.80  2.07e+06\n",
              "max    1527.20  1530.74  1520.98  1524.87  1.29e+07"
            ]
          },
          "metadata": {
            "tags": []
          },
          "execution_count": 7
        }
      ]
    },
    {
      "cell_type": "code",
      "metadata": {
        "id": "Yidnaa8x4-2M",
        "colab_type": "code",
        "colab": {
          "base_uri": "https://localhost:8080/",
          "height": 297
        },
        "outputId": "a60c34bf-be51-488d-c6eb-c667b40c7271"
      },
      "source": [
        "pd.options.display.float_format = '{:.2f}'.format\n",
        "google.describe()"
      ],
      "execution_count": null,
      "outputs": [
        {
          "output_type": "execute_result",
          "data": {
            "text/html": [
              "<div>\n",
              "<style scoped>\n",
              "    .dataframe tbody tr th:only-of-type {\n",
              "        vertical-align: middle;\n",
              "    }\n",
              "\n",
              "    .dataframe tbody tr th {\n",
              "        vertical-align: top;\n",
              "    }\n",
              "\n",
              "    .dataframe thead th {\n",
              "        text-align: right;\n",
              "    }\n",
              "</style>\n",
              "<table border=\"1\" class=\"dataframe\">\n",
              "  <thead>\n",
              "    <tr style=\"text-align: right;\">\n",
              "      <th></th>\n",
              "      <th>Open</th>\n",
              "      <th>High</th>\n",
              "      <th>Low</th>\n",
              "      <th>Close</th>\n",
              "      <th>Volume</th>\n",
              "    </tr>\n",
              "  </thead>\n",
              "  <tbody>\n",
              "    <tr>\n",
              "      <th>count</th>\n",
              "      <td>1259.00</td>\n",
              "      <td>1259.00</td>\n",
              "      <td>1259.00</td>\n",
              "      <td>1259.00</td>\n",
              "      <td>1259.00</td>\n",
              "    </tr>\n",
              "    <tr>\n",
              "      <th>mean</th>\n",
              "      <td>1005.26</td>\n",
              "      <td>1014.44</td>\n",
              "      <td>995.66</td>\n",
              "      <td>1005.45</td>\n",
              "      <td>1806539.41</td>\n",
              "    </tr>\n",
              "    <tr>\n",
              "      <th>std</th>\n",
              "      <td>222.88</td>\n",
              "      <td>225.41</td>\n",
              "      <td>220.60</td>\n",
              "      <td>223.21</td>\n",
              "      <td>957577.69</td>\n",
              "    </tr>\n",
              "    <tr>\n",
              "      <th>min</th>\n",
              "      <td>542.25</td>\n",
              "      <td>545.81</td>\n",
              "      <td>539.54</td>\n",
              "      <td>540.04</td>\n",
              "      <td>521141.00</td>\n",
              "    </tr>\n",
              "    <tr>\n",
              "      <th>25%</th>\n",
              "      <td>798.89</td>\n",
              "      <td>803.41</td>\n",
              "      <td>793.14</td>\n",
              "      <td>798.39</td>\n",
              "      <td>1223868.00</td>\n",
              "    </tr>\n",
              "    <tr>\n",
              "      <th>50%</th>\n",
              "      <td>1037.72</td>\n",
              "      <td>1050.88</td>\n",
              "      <td>1024.87</td>\n",
              "      <td>1037.14</td>\n",
              "      <td>1565290.00</td>\n",
              "    </tr>\n",
              "    <tr>\n",
              "      <th>75%</th>\n",
              "      <td>1173.66</td>\n",
              "      <td>1184.58</td>\n",
              "      <td>1163.10</td>\n",
              "      <td>1172.80</td>\n",
              "      <td>2072658.00</td>\n",
              "    </tr>\n",
              "    <tr>\n",
              "      <th>max</th>\n",
              "      <td>1527.20</td>\n",
              "      <td>1530.74</td>\n",
              "      <td>1520.98</td>\n",
              "      <td>1524.87</td>\n",
              "      <td>12858100.00</td>\n",
              "    </tr>\n",
              "  </tbody>\n",
              "</table>\n",
              "</div>"
            ],
            "text/plain": [
              "         Open    High     Low   Close      Volume\n",
              "count 1259.00 1259.00 1259.00 1259.00     1259.00\n",
              "mean  1005.26 1014.44  995.66 1005.45  1806539.41\n",
              "std    222.88  225.41  220.60  223.21   957577.69\n",
              "min    542.25  545.81  539.54  540.04   521141.00\n",
              "25%    798.89  803.41  793.14  798.39  1223868.00\n",
              "50%   1037.72 1050.88 1024.87 1037.14  1565290.00\n",
              "75%   1173.66 1184.58 1163.10 1172.80  2072658.00\n",
              "max   1527.20 1530.74 1520.98 1524.87 12858100.00"
            ]
          },
          "metadata": {
            "tags": []
          },
          "execution_count": 9
        }
      ]
    },
    {
      "cell_type": "code",
      "metadata": {
        "id": "--Nsg4nK6A7p",
        "colab_type": "code",
        "colab": {
          "base_uri": "https://localhost:8080/",
          "height": 293
        },
        "outputId": "d1af3e88-fa70-4832-aa05-eb1d11be5799"
      },
      "source": [
        "google['Close'].plot()"
      ],
      "execution_count": null,
      "outputs": [
        {
          "output_type": "execute_result",
          "data": {
            "text/plain": [
              "<matplotlib.axes._subplots.AxesSubplot at 0x7f4a35b35ef0>"
            ]
          },
          "metadata": {
            "tags": []
          },
          "execution_count": 10
        },
        {
          "output_type": "display_data",
          "data": {
            "image/png": "[encoded data removed]",
            "text/plain": [
              "<Figure size 432x288 with 1 Axes>"
            ]
          },
          "metadata": {
            "tags": []
          }
        }
      ]
    },
    {
      "cell_type": "code",
      "metadata": {
        "id": "JsdU7JJZ6iT0",
        "colab_type": "code",
        "colab": {
          "base_uri": "https://localhost:8080/",
          "height": 235
        },
        "outputId": "27d6e06f-1ee7-4434-93cb-3e3e4b2643d4"
      },
      "source": [
        "google.head()"
      ],
      "execution_count": null,
      "outputs": [
        {
          "output_type": "execute_result",
          "data": {
            "text/html": [
              "<div>\n",
              "<style scoped>\n",
              "    .dataframe tbody tr th:only-of-type {\n",
              "        vertical-align: middle;\n",
              "    }\n",
              "\n",
              "    .dataframe tbody tr th {\n",
              "        vertical-align: top;\n",
              "    }\n",
              "\n",
              "    .dataframe thead th {\n",
              "        text-align: right;\n",
              "    }\n",
              "</style>\n",
              "<table border=\"1\" class=\"dataframe\">\n",
              "  <thead>\n",
              "    <tr style=\"text-align: right;\">\n",
              "      <th></th>\n",
              "      <th>Open</th>\n",
              "      <th>High</th>\n",
              "      <th>Low</th>\n",
              "      <th>Close</th>\n",
              "      <th>Volume</th>\n",
              "    </tr>\n",
              "    <tr>\n",
              "      <th>Date</th>\n",
              "      <th></th>\n",
              "      <th></th>\n",
              "      <th></th>\n",
              "      <th></th>\n",
              "      <th></th>\n",
              "    </tr>\n",
              "  </thead>\n",
              "  <tbody>\n",
              "    <tr>\n",
              "      <th>2020-06-26</th>\n",
              "      <td>1432.63</td>\n",
              "      <td>1437.02</td>\n",
              "      <td>1355.00</td>\n",
              "      <td>1362.54</td>\n",
              "      <td>4882014</td>\n",
              "    </tr>\n",
              "    <tr>\n",
              "      <th>2020-06-25</th>\n",
              "      <td>1431.22</td>\n",
              "      <td>1442.32</td>\n",
              "      <td>1419.54</td>\n",
              "      <td>1441.10</td>\n",
              "      <td>1197907</td>\n",
              "    </tr>\n",
              "    <tr>\n",
              "      <th>2020-06-24</th>\n",
              "      <td>1463.28</td>\n",
              "      <td>1475.79</td>\n",
              "      <td>1430.00</td>\n",
              "      <td>1432.70</td>\n",
              "      <td>1579579</td>\n",
              "    </tr>\n",
              "    <tr>\n",
              "      <th>2020-06-23</th>\n",
              "      <td>1452.00</td>\n",
              "      <td>1475.20</td>\n",
              "      <td>1445.00</td>\n",
              "      <td>1463.98</td>\n",
              "      <td>1887583</td>\n",
              "    </tr>\n",
              "    <tr>\n",
              "      <th>2020-06-22</th>\n",
              "      <td>1425.01</td>\n",
              "      <td>1450.95</td>\n",
              "      <td>1419.19</td>\n",
              "      <td>1450.66</td>\n",
              "      <td>1472072</td>\n",
              "    </tr>\n",
              "  </tbody>\n",
              "</table>\n",
              "</div>"
            ],
            "text/plain": [
              "              Open    High     Low   Close   Volume\n",
              "Date                                               \n",
              "2020-06-26 1432.63 1437.02 1355.00 1362.54  4882014\n",
              "2020-06-25 1431.22 1442.32 1419.54 1441.10  1197907\n",
              "2020-06-24 1463.28 1475.79 1430.00 1432.70  1579579\n",
              "2020-06-23 1452.00 1475.20 1445.00 1463.98  1887583\n",
              "2020-06-22 1425.01 1450.95 1419.19 1450.66  1472072"
            ]
          },
          "metadata": {
            "tags": []
          },
          "execution_count": 11
        }
      ]
    },
    {
      "cell_type": "code",
      "metadata": {
        "id": "3s6678id6n9E",
        "colab_type": "code",
        "colab": {
          "base_uri": "https://localhost:8080/",
          "height": 419
        },
        "outputId": "0270dbe4-8cd3-4d0c-da5d-2b067379694f"
      },
      "source": [
        "google = google.reset_index()\n",
        "google"
      ],
      "execution_count": null,
      "outputs": [
        {
          "output_type": "execute_result",
          "data": {
            "text/html": [
              "<div>\n",
              "<style scoped>\n",
              "    .dataframe tbody tr th:only-of-type {\n",
              "        vertical-align: middle;\n",
              "    }\n",
              "\n",
              "    .dataframe tbody tr th {\n",
              "        vertical-align: top;\n",
              "    }\n",
              "\n",
              "    .dataframe thead th {\n",
              "        text-align: right;\n",
              "    }\n",
              "</style>\n",
              "<table border=\"1\" class=\"dataframe\">\n",
              "  <thead>\n",
              "    <tr style=\"text-align: right;\">\n",
              "      <th></th>\n",
              "      <th>Date</th>\n",
              "      <th>Open</th>\n",
              "      <th>High</th>\n",
              "      <th>Low</th>\n",
              "      <th>Close</th>\n",
              "      <th>Volume</th>\n",
              "    </tr>\n",
              "  </thead>\n",
              "  <tbody>\n",
              "    <tr>\n",
              "      <th>0</th>\n",
              "      <td>2020-06-26</td>\n",
              "      <td>1432.63</td>\n",
              "      <td>1437.02</td>\n",
              "      <td>1355.00</td>\n",
              "      <td>1362.54</td>\n",
              "      <td>4882014</td>\n",
              "    </tr>\n",
              "    <tr>\n",
              "      <th>1</th>\n",
              "      <td>2020-06-25</td>\n",
              "      <td>1431.22</td>\n",
              "      <td>1442.32</td>\n",
              "      <td>1419.54</td>\n",
              "      <td>1441.10</td>\n",
              "      <td>1197907</td>\n",
              "    </tr>\n",
              "    <tr>\n",
              "      <th>2</th>\n",
              "      <td>2020-06-24</td>\n",
              "      <td>1463.28</td>\n",
              "      <td>1475.79</td>\n",
              "      <td>1430.00</td>\n",
              "      <td>1432.70</td>\n",
              "      <td>1579579</td>\n",
              "    </tr>\n",
              "    <tr>\n",
              "      <th>3</th>\n",
              "      <td>2020-06-23</td>\n",
              "      <td>1452.00</td>\n",
              "      <td>1475.20</td>\n",
              "      <td>1445.00</td>\n",
              "      <td>1463.98</td>\n",
              "      <td>1887583</td>\n",
              "    </tr>\n",
              "    <tr>\n",
              "      <th>4</th>\n",
              "      <td>2020-06-22</td>\n",
              "      <td>1425.01</td>\n",
              "      <td>1450.95</td>\n",
              "      <td>1419.19</td>\n",
              "      <td>1450.66</td>\n",
              "      <td>1472072</td>\n",
              "    </tr>\n",
              "    <tr>\n",
              "      <th>...</th>\n",
              "      <td>...</td>\n",
              "      <td>...</td>\n",
              "      <td>...</td>\n",
              "      <td>...</td>\n",
              "      <td>...</td>\n",
              "      <td>...</td>\n",
              "    </tr>\n",
              "    <tr>\n",
              "      <th>1254</th>\n",
              "      <td>2015-07-06</td>\n",
              "      <td>542.25</td>\n",
              "      <td>548.58</td>\n",
              "      <td>542.09</td>\n",
              "      <td>545.62</td>\n",
              "      <td>1280600</td>\n",
              "    </tr>\n",
              "    <tr>\n",
              "      <th>1255</th>\n",
              "      <td>2015-07-02</td>\n",
              "      <td>544.74</td>\n",
              "      <td>548.00</td>\n",
              "      <td>543.57</td>\n",
              "      <td>547.34</td>\n",
              "      <td>1406200</td>\n",
              "    </tr>\n",
              "    <tr>\n",
              "      <th>1256</th>\n",
              "      <td>2015-07-01</td>\n",
              "      <td>543.66</td>\n",
              "      <td>545.81</td>\n",
              "      <td>539.76</td>\n",
              "      <td>543.30</td>\n",
              "      <td>1537900</td>\n",
              "    </tr>\n",
              "    <tr>\n",
              "      <th>1257</th>\n",
              "      <td>2015-06-30</td>\n",
              "      <td>545.09</td>\n",
              "      <td>545.90</td>\n",
              "      <td>539.54</td>\n",
              "      <td>540.04</td>\n",
              "      <td>1725464</td>\n",
              "    </tr>\n",
              "    <tr>\n",
              "      <th>1258</th>\n",
              "      <td>2015-06-29</td>\n",
              "      <td>546.75</td>\n",
              "      <td>550.90</td>\n",
              "      <td>540.24</td>\n",
              "      <td>541.25</td>\n",
              "      <td>1887800</td>\n",
              "    </tr>\n",
              "  </tbody>\n",
              "</table>\n",
              "<p>1259 rows × 6 columns</p>\n",
              "</div>"
            ],
            "text/plain": [
              "           Date    Open    High     Low   Close   Volume\n",
              "0    2020-06-26 1432.63 1437.02 1355.00 1362.54  4882014\n",
              "1    2020-06-25 1431.22 1442.32 1419.54 1441.10  1197907\n",
              "2    2020-06-24 1463.28 1475.79 1430.00 1432.70  1579579\n",
              "3    2020-06-23 1452.00 1475.20 1445.00 1463.98  1887583\n",
              "4    2020-06-22 1425.01 1450.95 1419.19 1450.66  1472072\n",
              "...         ...     ...     ...     ...     ...      ...\n",
              "1254 2015-07-06  542.25  548.58  542.09  545.62  1280600\n",
              "1255 2015-07-02  544.74  548.00  543.57  547.34  1406200\n",
              "1256 2015-07-01  543.66  545.81  539.76  543.30  1537900\n",
              "1257 2015-06-30  545.09  545.90  539.54  540.04  1725464\n",
              "1258 2015-06-29  546.75  550.90  540.24  541.25  1887800\n",
              "\n",
              "[1259 rows x 6 columns]"
            ]
          },
          "metadata": {
            "tags": []
          },
          "execution_count": 12
        }
      ]
    },
    {
      "cell_type": "code",
      "metadata": {
        "id": "dKpuNszA7bxJ",
        "colab_type": "code",
        "colab": {
          "base_uri": "https://localhost:8080/",
          "height": 419
        },
        "outputId": "9af80460-cd6f-4604-d570-aa7b16e95c90"
      },
      "source": [
        "google['Month'] = google['Date'].dt.month\n",
        "google['Year'] = google['Date'].dt.year\n",
        "google"
      ],
      "execution_count": null,
      "outputs": [
        {
          "output_type": "execute_result",
          "data": {
            "text/html": [
              "<div>\n",
              "<style scoped>\n",
              "    .dataframe tbody tr th:only-of-type {\n",
              "        vertical-align: middle;\n",
              "    }\n",
              "\n",
              "    .dataframe tbody tr th {\n",
              "        vertical-align: top;\n",
              "    }\n",
              "\n",
              "    .dataframe thead th {\n",
              "        text-align: right;\n",
              "    }\n",
              "</style>\n",
              "<table border=\"1\" class=\"dataframe\">\n",
              "  <thead>\n",
              "    <tr style=\"text-align: right;\">\n",
              "      <th></th>\n",
              "      <th>Date</th>\n",
              "      <th>Open</th>\n",
              "      <th>High</th>\n",
              "      <th>Low</th>\n",
              "      <th>Close</th>\n",
              "      <th>Volume</th>\n",
              "      <th>Month</th>\n",
              "      <th>Year</th>\n",
              "    </tr>\n",
              "  </thead>\n",
              "  <tbody>\n",
              "    <tr>\n",
              "      <th>0</th>\n",
              "      <td>2020-06-26</td>\n",
              "      <td>1432.63</td>\n",
              "      <td>1437.02</td>\n",
              "      <td>1355.00</td>\n",
              "      <td>1362.54</td>\n",
              "      <td>4882014</td>\n",
              "      <td>6</td>\n",
              "      <td>2020</td>\n",
              "    </tr>\n",
              "    <tr>\n",
              "      <th>1</th>\n",
              "      <td>2020-06-25</td>\n",
              "      <td>1431.22</td>\n",
              "      <td>1442.32</td>\n",
              "      <td>1419.54</td>\n",
              "      <td>1441.10</td>\n",
              "      <td>1197907</td>\n",
              "      <td>6</td>\n",
              "      <td>2020</td>\n",
              "    </tr>\n",
              "    <tr>\n",
              "      <th>2</th>\n",
              "      <td>2020-06-24</td>\n",
              "      <td>1463.28</td>\n",
              "      <td>1475.79</td>\n",
              "      <td>1430.00</td>\n",
              "      <td>1432.70</td>\n",
              "      <td>1579579</td>\n",
              "      <td>6</td>\n",
              "      <td>2020</td>\n",
              "    </tr>\n",
              "    <tr>\n",
              "      <th>3</th>\n",
              "      <td>2020-06-23</td>\n",
              "      <td>1452.00</td>\n",
              "      <td>1475.20</td>\n",
              "      <td>1445.00</td>\n",
              "      <td>1463.98</td>\n",
              "      <td>1887583</td>\n",
              "      <td>6</td>\n",
              "      <td>2020</td>\n",
              "    </tr>\n",
              "    <tr>\n",
              "      <th>4</th>\n",
              "      <td>2020-06-22</td>\n",
              "      <td>1425.01</td>\n",
              "      <td>1450.95</td>\n",
              "      <td>1419.19</td>\n",
              "      <td>1450.66</td>\n",
              "      <td>1472072</td>\n",
              "      <td>6</td>\n",
              "      <td>2020</td>\n",
              "    </tr>\n",
              "    <tr>\n",
              "      <th>...</th>\n",
              "      <td>...</td>\n",
              "      <td>...</td>\n",
              "      <td>...</td>\n",
              "      <td>...</td>\n",
              "      <td>...</td>\n",
              "      <td>...</td>\n",
              "      <td>...</td>\n",
              "      <td>...</td>\n",
              "    </tr>\n",
              "    <tr>\n",
              "      <th>1254</th>\n",
              "      <td>2015-07-06</td>\n",
              "      <td>542.25</td>\n",
              "      <td>548.58</td>\n",
              "      <td>542.09</td>\n",
              "      <td>545.62</td>\n",
              "      <td>1280600</td>\n",
              "      <td>7</td>\n",
              "      <td>2015</td>\n",
              "    </tr>\n",
              "    <tr>\n",
              "      <th>1255</th>\n",
              "      <td>2015-07-02</td>\n",
              "      <td>544.74</td>\n",
              "      <td>548.00</td>\n",
              "      <td>543.57</td>\n",
              "      <td>547.34</td>\n",
              "      <td>1406200</td>\n",
              "      <td>7</td>\n",
              "      <td>2015</td>\n",
              "    </tr>\n",
              "    <tr>\n",
              "      <th>1256</th>\n",
              "      <td>2015-07-01</td>\n",
              "      <td>543.66</td>\n",
              "      <td>545.81</td>\n",
              "      <td>539.76</td>\n",
              "      <td>543.30</td>\n",
              "      <td>1537900</td>\n",
              "      <td>7</td>\n",
              "      <td>2015</td>\n",
              "    </tr>\n",
              "    <tr>\n",
              "      <th>1257</th>\n",
              "      <td>2015-06-30</td>\n",
              "      <td>545.09</td>\n",
              "      <td>545.90</td>\n",
              "      <td>539.54</td>\n",
              "      <td>540.04</td>\n",
              "      <td>1725464</td>\n",
              "      <td>6</td>\n",
              "      <td>2015</td>\n",
              "    </tr>\n",
              "    <tr>\n",
              "      <th>1258</th>\n",
              "      <td>2015-06-29</td>\n",
              "      <td>546.75</td>\n",
              "      <td>550.90</td>\n",
              "      <td>540.24</td>\n",
              "      <td>541.25</td>\n",
              "      <td>1887800</td>\n",
              "      <td>6</td>\n",
              "      <td>2015</td>\n",
              "    </tr>\n",
              "  </tbody>\n",
              "</table>\n",
              "<p>1259 rows × 8 columns</p>\n",
              "</div>"
            ],
            "text/plain": [
              "           Date    Open    High     Low   Close   Volume  Month  Year\n",
              "0    2020-06-26 1432.63 1437.02 1355.00 1362.54  4882014      6  2020\n",
              "1    2020-06-25 1431.22 1442.32 1419.54 1441.10  1197907      6  2020\n",
              "2    2020-06-24 1463.28 1475.79 1430.00 1432.70  1579579      6  2020\n",
              "3    2020-06-23 1452.00 1475.20 1445.00 1463.98  1887583      6  2020\n",
              "4    2020-06-22 1425.01 1450.95 1419.19 1450.66  1472072      6  2020\n",
              "...         ...     ...     ...     ...     ...      ...    ...   ...\n",
              "1254 2015-07-06  542.25  548.58  542.09  545.62  1280600      7  2015\n",
              "1255 2015-07-02  544.74  548.00  543.57  547.34  1406200      7  2015\n",
              "1256 2015-07-01  543.66  545.81  539.76  543.30  1537900      7  2015\n",
              "1257 2015-06-30  545.09  545.90  539.54  540.04  1725464      6  2015\n",
              "1258 2015-06-29  546.75  550.90  540.24  541.25  1887800      6  2015\n",
              "\n",
              "[1259 rows x 8 columns]"
            ]
          },
          "metadata": {
            "tags": []
          },
          "execution_count": 15
        }
      ]
    },
    {
      "cell_type": "code",
      "metadata": {
        "id": "BlCayYaf8kD4",
        "colab_type": "code",
        "colab": {
          "base_uri": "https://localhost:8080/",
          "height": 153
        },
        "outputId": "5745f486-46c8-4459-9277-eae32d83b08d"
      },
      "source": [
        " google.groupby('Year')['Close'].mean()\n",
        " "
      ],
      "execution_count": null,
      "outputs": [
        {
          "output_type": "execute_result",
          "data": {
            "text/plain": [
              "Year\n",
              "2015    689.69\n",
              "2016    763.21\n",
              "2017    939.77\n",
              "2018   1122.05\n",
              "2019   1191.22\n",
              "2020   1350.95\n",
              "Name: Close, dtype: float64"
            ]
          },
          "metadata": {
            "tags": []
          },
          "execution_count": 18
        }
      ]
    },
    {
      "cell_type": "code",
      "metadata": {
        "id": "9spxKBPp9Lg5",
        "colab_type": "code",
        "colab": {
          "base_uri": "https://localhost:8080/",
          "height": 302
        },
        "outputId": "ec08970a-9437-4729-8175-64ae70d9abbb"
      },
      "source": [
        " google.groupby('Year')['Close'].mean().plot()"
      ],
      "execution_count": null,
      "outputs": [
        {
          "output_type": "execute_result",
          "data": {
            "text/plain": [
              "<matplotlib.axes._subplots.AxesSubplot at 0x7f4a355fa0b8>"
            ]
          },
          "metadata": {
            "tags": []
          },
          "execution_count": 19
        },
        {
          "output_type": "display_data",
          "data": {
            "image/png": "[encoded data removed]",
            "text/plain": [
              "<Figure size 432x288 with 1 Axes>"
            ]
          },
          "metadata": {
            "tags": []
          }
        }
      ]
    },
    {
      "cell_type": "code",
      "metadata": {
        "id": "qm7NNYaZ9P-B",
        "colab_type": "code",
        "colab": {
          "base_uri": "https://localhost:8080/",
          "height": 255
        },
        "outputId": "86f0e293-42f5-48bf-fd57-7681e14a6ac9"
      },
      "source": [
        "google.groupby('Month')['Close'].mean()"
      ],
      "execution_count": null,
      "outputs": [
        {
          "output_type": "execute_result",
          "data": {
            "text/plain": [
              "Month\n",
              "1    1052.83\n",
              "2    1044.11\n",
              "3    1008.99\n",
              "4    1027.07\n",
              "5    1057.08\n",
              "6    1054.23\n",
              "7     935.87\n",
              "8     969.14\n",
              "9     953.44\n",
              "10    976.73\n",
              "11    991.32\n",
              "12    999.30\n",
              "Name: Close, dtype: float64"
            ]
          },
          "metadata": {
            "tags": []
          },
          "execution_count": 20
        }
      ]
    },
    {
      "cell_type": "code",
      "metadata": {
        "id": "DTVvuqV2E_X2",
        "colab_type": "code",
        "colab": {
          "base_uri": "https://localhost:8080/",
          "height": 302
        },
        "outputId": "00e06a53-660c-4de7-eef0-d8cfdc874b79"
      },
      "source": [
        "google.groupby('Month')['Close'].mean().plot()"
      ],
      "execution_count": null,
      "outputs": [
        {
          "output_type": "execute_result",
          "data": {
            "text/plain": [
              "<matplotlib.axes._subplots.AxesSubplot at 0x7f4a355ba710>"
            ]
          },
          "metadata": {
            "tags": []
          },
          "execution_count": 21
        },
        {
          "output_type": "display_data",
          "data": {
            "image/png": "[encoded data removed]",
            "text/plain": [
              "<Figure size 432x288 with 1 Axes>"
            ]
          },
          "metadata": {
            "tags": []
          }
        }
      ]
    },
    {
      "cell_type": "code",
      "metadata": {
        "id": "noY1lrVUFOt0",
        "colab_type": "code",
        "colab": {
          "base_uri": "https://localhost:8080/",
          "height": 238
        },
        "outputId": "55561411-cc36-49c1-8597-f2fd210a1b03"
      },
      "source": [
        "google.groupby(['Month','Year'])['Close'].mean()"
      ],
      "execution_count": null,
      "outputs": [
        {
          "output_type": "execute_result",
          "data": {
            "text/plain": [
              "Month  Year\n",
              "1      2016    736.58\n",
              "       2017    830.25\n",
              "       2018   1139.42\n",
              "       2019   1080.99\n",
              "       2020   1436.17\n",
              "                ...  \n",
              "12     2015    771.04\n",
              "       2016    800.59\n",
              "       2017   1053.90\n",
              "       2018   1048.09\n",
              "       2019   1340.99\n",
              "Name: Close, Length: 61, dtype: float64"
            ]
          },
          "metadata": {
            "tags": []
          },
          "execution_count": 23
        }
      ]
    },
    {
      "cell_type": "code",
      "metadata": {
        "id": "fxkIyy0uGLcS",
        "colab_type": "code",
        "colab": {
          "base_uri": "https://localhost:8080/",
          "height": 302
        },
        "outputId": "9696a7b5-0417-4c86-d200-2b665d44cda1"
      },
      "source": [
        "google.groupby(['Month','Year'])['Close'].mean().plot()"
      ],
      "execution_count": null,
      "outputs": [
        {
          "output_type": "execute_result",
          "data": {
            "text/plain": [
              "<matplotlib.axes._subplots.AxesSubplot at 0x7f4a35527e80>"
            ]
          },
          "metadata": {
            "tags": []
          },
          "execution_count": 24
        },
        {
          "output_type": "display_data",
          "data": {
            "image/png": "[encoded data removed]",
            "text/plain": [
              "<Figure size 432x288 with 1 Axes>"
            ]
          },
          "metadata": {
            "tags": []
          }
        }
      ]
    },
    {
      "cell_type": "code",
      "metadata": {
        "id": "NQAZsENdGyy-",
        "colab_type": "code",
        "colab": {
          "base_uri": "https://localhost:8080/",
          "height": 34
        },
        "outputId": "7107a2da-8003-42ff-8acf-d95520aacde5"
      },
      "source": [
        "google['Close'].argmax()"
      ],
      "execution_count": null,
      "outputs": [
        {
          "output_type": "execute_result",
          "data": {
            "text/plain": [
              "90"
            ]
          },
          "metadata": {
            "tags": []
          },
          "execution_count": 25
        }
      ]
    },
    {
      "cell_type": "code",
      "metadata": {
        "id": "c6gZlm2nG6CK",
        "colab_type": "code",
        "colab": {
          "base_uri": "https://localhost:8080/",
          "height": 80
        },
        "outputId": "15378ad1-8ad7-43e9-a473-a48410c46020"
      },
      "source": [
        "google.iloc[[google['Close'].argmax()]]"
      ],
      "execution_count": null,
      "outputs": [
        {
          "output_type": "execute_result",
          "data": {
            "text/html": [
              "<div>\n",
              "<style scoped>\n",
              "    .dataframe tbody tr th:only-of-type {\n",
              "        vertical-align: middle;\n",
              "    }\n",
              "\n",
              "    .dataframe tbody tr th {\n",
              "        vertical-align: top;\n",
              "    }\n",
              "\n",
              "    .dataframe thead th {\n",
              "        text-align: right;\n",
              "    }\n",
              "</style>\n",
              "<table border=\"1\" class=\"dataframe\">\n",
              "  <thead>\n",
              "    <tr style=\"text-align: right;\">\n",
              "      <th></th>\n",
              "      <th>Date</th>\n",
              "      <th>Open</th>\n",
              "      <th>High</th>\n",
              "      <th>Low</th>\n",
              "      <th>Close</th>\n",
              "      <th>Volume</th>\n",
              "      <th>Month</th>\n",
              "      <th>Year</th>\n",
              "    </tr>\n",
              "  </thead>\n",
              "  <tbody>\n",
              "    <tr>\n",
              "      <th>90</th>\n",
              "      <td>2020-02-19</td>\n",
              "      <td>1527.20</td>\n",
              "      <td>1530.74</td>\n",
              "      <td>1520.98</td>\n",
              "      <td>1524.87</td>\n",
              "      <td>1137338</td>\n",
              "      <td>2</td>\n",
              "      <td>2020</td>\n",
              "    </tr>\n",
              "  </tbody>\n",
              "</table>\n",
              "</div>"
            ],
            "text/plain": [
              "         Date    Open    High     Low   Close   Volume  Month  Year\n",
              "90 2020-02-19 1527.20 1530.74 1520.98 1524.87  1137338      2  2020"
            ]
          },
          "metadata": {
            "tags": []
          },
          "execution_count": 26
        }
      ]
    },
    {
      "cell_type": "code",
      "metadata": {
        "id": "ekpv5v6wHrmb",
        "colab_type": "code",
        "colab": {
          "base_uri": "https://localhost:8080/",
          "height": 80
        },
        "outputId": "a0987503-9231-445f-e87a-cc079c5f1df2"
      },
      "source": [
        "google.iloc[[47]]"
      ],
      "execution_count": null,
      "outputs": [
        {
          "output_type": "execute_result",
          "data": {
            "text/html": [
              "<div>\n",
              "<style scoped>\n",
              "    .dataframe tbody tr th:only-of-type {\n",
              "        vertical-align: middle;\n",
              "    }\n",
              "\n",
              "    .dataframe tbody tr th {\n",
              "        vertical-align: top;\n",
              "    }\n",
              "\n",
              "    .dataframe thead th {\n",
              "        text-align: right;\n",
              "    }\n",
              "</style>\n",
              "<table border=\"1\" class=\"dataframe\">\n",
              "  <thead>\n",
              "    <tr style=\"text-align: right;\">\n",
              "      <th></th>\n",
              "      <th>Date</th>\n",
              "      <th>Open</th>\n",
              "      <th>High</th>\n",
              "      <th>Low</th>\n",
              "      <th>Close</th>\n",
              "      <th>Volume</th>\n",
              "      <th>Month</th>\n",
              "      <th>Year</th>\n",
              "    </tr>\n",
              "  </thead>\n",
              "  <tbody>\n",
              "    <tr>\n",
              "      <th>47</th>\n",
              "      <td>2020-04-21</td>\n",
              "      <td>1242.71</td>\n",
              "      <td>1250.00</td>\n",
              "      <td>1205.00</td>\n",
              "      <td>1212.16</td>\n",
              "      <td>2482404</td>\n",
              "      <td>4</td>\n",
              "      <td>2020</td>\n",
              "    </tr>\n",
              "  </tbody>\n",
              "</table>\n",
              "</div>"
            ],
            "text/plain": [
              "         Date    Open    High     Low   Close   Volume  Month  Year\n",
              "47 2020-04-21 1242.71 1250.00 1205.00 1212.16  2482404      4  2020"
            ]
          },
          "metadata": {
            "tags": []
          },
          "execution_count": 27
        }
      ]
    },
    {
      "cell_type": "code",
      "metadata": {
        "id": "X56mEPtYIuS4",
        "colab_type": "code",
        "colab": {
          "base_uri": "https://localhost:8080/",
          "height": 170
        },
        "outputId": "f8733f95-4141-4944-febc-e86b257003fb"
      },
      "source": [
        "google.iloc[47]"
      ],
      "execution_count": null,
      "outputs": [
        {
          "output_type": "execute_result",
          "data": {
            "text/plain": [
              "Date      2020-04-21 00:00:00\n",
              "Open                  1242.71\n",
              "High                  1250.00\n",
              "Low                   1205.00\n",
              "Close                 1212.16\n",
              "Volume                2482404\n",
              "Month                       4\n",
              "Year                     2020\n",
              "Name: 47, dtype: object"
            ]
          },
          "metadata": {
            "tags": []
          },
          "execution_count": 28
        }
      ]
    },
    {
      "cell_type": "code",
      "metadata": {
        "id": "iDRLa-BrJC_9",
        "colab_type": "code",
        "colab": {
          "base_uri": "https://localhost:8080/",
          "height": 419
        },
        "outputId": "4d133179-e502-434e-fd36-72cd8550261c"
      },
      "source": [
        "google[['Date','Open','Close','Volume']]\n"
      ],
      "execution_count": null,
      "outputs": [
        {
          "output_type": "execute_result",
          "data": {
            "text/html": [
              "<div>\n",
              "<style scoped>\n",
              "    .dataframe tbody tr th:only-of-type {\n",
              "        vertical-align: middle;\n",
              "    }\n",
              "\n",
              "    .dataframe tbody tr th {\n",
              "        vertical-align: top;\n",
              "    }\n",
              "\n",
              "    .dataframe thead th {\n",
              "        text-align: right;\n",
              "    }\n",
              "</style>\n",
              "<table border=\"1\" class=\"dataframe\">\n",
              "  <thead>\n",
              "    <tr style=\"text-align: right;\">\n",
              "      <th></th>\n",
              "      <th>Date</th>\n",
              "      <th>Open</th>\n",
              "      <th>Close</th>\n",
              "      <th>Volume</th>\n",
              "    </tr>\n",
              "  </thead>\n",
              "  <tbody>\n",
              "    <tr>\n",
              "      <th>0</th>\n",
              "      <td>2020-06-26</td>\n",
              "      <td>1432.63</td>\n",
              "      <td>1362.54</td>\n",
              "      <td>4882014</td>\n",
              "    </tr>\n",
              "    <tr>\n",
              "      <th>1</th>\n",
              "      <td>2020-06-25</td>\n",
              "      <td>1431.22</td>\n",
              "      <td>1441.10</td>\n",
              "      <td>1197907</td>\n",
              "    </tr>\n",
              "    <tr>\n",
              "      <th>2</th>\n",
              "      <td>2020-06-24</td>\n",
              "      <td>1463.28</td>\n",
              "      <td>1432.70</td>\n",
              "      <td>1579579</td>\n",
              "    </tr>\n",
              "    <tr>\n",
              "      <th>3</th>\n",
              "      <td>2020-06-23</td>\n",
              "      <td>1452.00</td>\n",
              "      <td>1463.98</td>\n",
              "      <td>1887583</td>\n",
              "    </tr>\n",
              "    <tr>\n",
              "      <th>4</th>\n",
              "      <td>2020-06-22</td>\n",
              "      <td>1425.01</td>\n",
              "      <td>1450.66</td>\n",
              "      <td>1472072</td>\n",
              "    </tr>\n",
              "    <tr>\n",
              "      <th>...</th>\n",
              "      <td>...</td>\n",
              "      <td>...</td>\n",
              "      <td>...</td>\n",
              "      <td>...</td>\n",
              "    </tr>\n",
              "    <tr>\n",
              "      <th>1254</th>\n",
              "      <td>2015-07-06</td>\n",
              "      <td>542.25</td>\n",
              "      <td>545.62</td>\n",
              "      <td>1280600</td>\n",
              "    </tr>\n",
              "    <tr>\n",
              "      <th>1255</th>\n",
              "      <td>2015-07-02</td>\n",
              "      <td>544.74</td>\n",
              "      <td>547.34</td>\n",
              "      <td>1406200</td>\n",
              "    </tr>\n",
              "    <tr>\n",
              "      <th>1256</th>\n",
              "      <td>2015-07-01</td>\n",
              "      <td>543.66</td>\n",
              "      <td>543.30</td>\n",
              "      <td>1537900</td>\n",
              "    </tr>\n",
              "    <tr>\n",
              "      <th>1257</th>\n",
              "      <td>2015-06-30</td>\n",
              "      <td>545.09</td>\n",
              "      <td>540.04</td>\n",
              "      <td>1725464</td>\n",
              "    </tr>\n",
              "    <tr>\n",
              "      <th>1258</th>\n",
              "      <td>2015-06-29</td>\n",
              "      <td>546.75</td>\n",
              "      <td>541.25</td>\n",
              "      <td>1887800</td>\n",
              "    </tr>\n",
              "  </tbody>\n",
              "</table>\n",
              "<p>1259 rows × 4 columns</p>\n",
              "</div>"
            ],
            "text/plain": [
              "           Date    Open   Close   Volume\n",
              "0    2020-06-26 1432.63 1362.54  4882014\n",
              "1    2020-06-25 1431.22 1441.10  1197907\n",
              "2    2020-06-24 1463.28 1432.70  1579579\n",
              "3    2020-06-23 1452.00 1463.98  1887583\n",
              "4    2020-06-22 1425.01 1450.66  1472072\n",
              "...         ...     ...     ...      ...\n",
              "1254 2015-07-06  542.25  545.62  1280600\n",
              "1255 2015-07-02  544.74  547.34  1406200\n",
              "1256 2015-07-01  543.66  543.30  1537900\n",
              "1257 2015-06-30  545.09  540.04  1725464\n",
              "1258 2015-06-29  546.75  541.25  1887800\n",
              "\n",
              "[1259 rows x 4 columns]"
            ]
          },
          "metadata": {
            "tags": []
          },
          "execution_count": 29
        }
      ]
    },
    {
      "cell_type": "code",
      "metadata": {
        "id": "VNNYGqF0JS74",
        "colab_type": "code",
        "colab": {
          "base_uri": "https://localhost:8080/",
          "height": 450
        },
        "outputId": "5383fc58-75ec-4764-a61a-15712f2c1755"
      },
      "source": [
        "google = google.set_index('Date')\n",
        "google"
      ],
      "execution_count": null,
      "outputs": [
        {
          "output_type": "execute_result",
          "data": {
            "text/html": [
              "<div>\n",
              "<style scoped>\n",
              "    .dataframe tbody tr th:only-of-type {\n",
              "        vertical-align: middle;\n",
              "    }\n",
              "\n",
              "    .dataframe tbody tr th {\n",
              "        vertical-align: top;\n",
              "    }\n",
              "\n",
              "    .dataframe thead th {\n",
              "        text-align: right;\n",
              "    }\n",
              "</style>\n",
              "<table border=\"1\" class=\"dataframe\">\n",
              "  <thead>\n",
              "    <tr style=\"text-align: right;\">\n",
              "      <th></th>\n",
              "      <th>Open</th>\n",
              "      <th>High</th>\n",
              "      <th>Low</th>\n",
              "      <th>Close</th>\n",
              "      <th>Volume</th>\n",
              "      <th>Month</th>\n",
              "      <th>Year</th>\n",
              "    </tr>\n",
              "    <tr>\n",
              "      <th>Date</th>\n",
              "      <th></th>\n",
              "      <th></th>\n",
              "      <th></th>\n",
              "      <th></th>\n",
              "      <th></th>\n",
              "      <th></th>\n",
              "      <th></th>\n",
              "    </tr>\n",
              "  </thead>\n",
              "  <tbody>\n",
              "    <tr>\n",
              "      <th>2020-06-26</th>\n",
              "      <td>1432.63</td>\n",
              "      <td>1437.02</td>\n",
              "      <td>1355.00</td>\n",
              "      <td>1362.54</td>\n",
              "      <td>4882014</td>\n",
              "      <td>6</td>\n",
              "      <td>2020</td>\n",
              "    </tr>\n",
              "    <tr>\n",
              "      <th>2020-06-25</th>\n",
              "      <td>1431.22</td>\n",
              "      <td>1442.32</td>\n",
              "      <td>1419.54</td>\n",
              "      <td>1441.10</td>\n",
              "      <td>1197907</td>\n",
              "      <td>6</td>\n",
              "      <td>2020</td>\n",
              "    </tr>\n",
              "    <tr>\n",
              "      <th>2020-06-24</th>\n",
              "      <td>1463.28</td>\n",
              "      <td>1475.79</td>\n",
              "      <td>1430.00</td>\n",
              "      <td>1432.70</td>\n",
              "      <td>1579579</td>\n",
              "      <td>6</td>\n",
              "      <td>2020</td>\n",
              "    </tr>\n",
              "    <tr>\n",
              "      <th>2020-06-23</th>\n",
              "      <td>1452.00</td>\n",
              "      <td>1475.20</td>\n",
              "      <td>1445.00</td>\n",
              "      <td>1463.98</td>\n",
              "      <td>1887583</td>\n",
              "      <td>6</td>\n",
              "      <td>2020</td>\n",
              "    </tr>\n",
              "    <tr>\n",
              "      <th>2020-06-22</th>\n",
              "      <td>1425.01</td>\n",
              "      <td>1450.95</td>\n",
              "      <td>1419.19</td>\n",
              "      <td>1450.66</td>\n",
              "      <td>1472072</td>\n",
              "      <td>6</td>\n",
              "      <td>2020</td>\n",
              "    </tr>\n",
              "    <tr>\n",
              "      <th>...</th>\n",
              "      <td>...</td>\n",
              "      <td>...</td>\n",
              "      <td>...</td>\n",
              "      <td>...</td>\n",
              "      <td>...</td>\n",
              "      <td>...</td>\n",
              "      <td>...</td>\n",
              "    </tr>\n",
              "    <tr>\n",
              "      <th>2015-07-06</th>\n",
              "      <td>542.25</td>\n",
              "      <td>548.58</td>\n",
              "      <td>542.09</td>\n",
              "      <td>545.62</td>\n",
              "      <td>1280600</td>\n",
              "      <td>7</td>\n",
              "      <td>2015</td>\n",
              "    </tr>\n",
              "    <tr>\n",
              "      <th>2015-07-02</th>\n",
              "      <td>544.74</td>\n",
              "      <td>548.00</td>\n",
              "      <td>543.57</td>\n",
              "      <td>547.34</td>\n",
              "      <td>1406200</td>\n",
              "      <td>7</td>\n",
              "      <td>2015</td>\n",
              "    </tr>\n",
              "    <tr>\n",
              "      <th>2015-07-01</th>\n",
              "      <td>543.66</td>\n",
              "      <td>545.81</td>\n",
              "      <td>539.76</td>\n",
              "      <td>543.30</td>\n",
              "      <td>1537900</td>\n",
              "      <td>7</td>\n",
              "      <td>2015</td>\n",
              "    </tr>\n",
              "    <tr>\n",
              "      <th>2015-06-30</th>\n",
              "      <td>545.09</td>\n",
              "      <td>545.90</td>\n",
              "      <td>539.54</td>\n",
              "      <td>540.04</td>\n",
              "      <td>1725464</td>\n",
              "      <td>6</td>\n",
              "      <td>2015</td>\n",
              "    </tr>\n",
              "    <tr>\n",
              "      <th>2015-06-29</th>\n",
              "      <td>546.75</td>\n",
              "      <td>550.90</td>\n",
              "      <td>540.24</td>\n",
              "      <td>541.25</td>\n",
              "      <td>1887800</td>\n",
              "      <td>6</td>\n",
              "      <td>2015</td>\n",
              "    </tr>\n",
              "  </tbody>\n",
              "</table>\n",
              "<p>1259 rows × 7 columns</p>\n",
              "</div>"
            ],
            "text/plain": [
              "              Open    High     Low   Close   Volume  Month  Year\n",
              "Date                                                            \n",
              "2020-06-26 1432.63 1437.02 1355.00 1362.54  4882014      6  2020\n",
              "2020-06-25 1431.22 1442.32 1419.54 1441.10  1197907      6  2020\n",
              "2020-06-24 1463.28 1475.79 1430.00 1432.70  1579579      6  2020\n",
              "2020-06-23 1452.00 1475.20 1445.00 1463.98  1887583      6  2020\n",
              "2020-06-22 1425.01 1450.95 1419.19 1450.66  1472072      6  2020\n",
              "...            ...     ...     ...     ...      ...    ...   ...\n",
              "2015-07-06  542.25  548.58  542.09  545.62  1280600      7  2015\n",
              "2015-07-02  544.74  548.00  543.57  547.34  1406200      7  2015\n",
              "2015-07-01  543.66  545.81  539.76  543.30  1537900      7  2015\n",
              "2015-06-30  545.09  545.90  539.54  540.04  1725464      6  2015\n",
              "2015-06-29  546.75  550.90  540.24  541.25  1887800      6  2015\n",
              "\n",
              "[1259 rows x 7 columns]"
            ]
          },
          "metadata": {
            "tags": []
          },
          "execution_count": 31
        }
      ]
    },
    {
      "cell_type": "code",
      "metadata": {
        "id": "dOTO1c2mKDZI",
        "colab_type": "code",
        "colab": {
          "base_uri": "https://localhost:8080/",
          "height": 450
        },
        "outputId": "7270e243-7242-4f32-b128-fef6a0b3ae30"
      },
      "source": [
        "google = google.drop(columns=['Year','Month'])\n",
        "google"
      ],
      "execution_count": null,
      "outputs": [
        {
          "output_type": "execute_result",
          "data": {
            "text/html": [
              "<div>\n",
              "<style scoped>\n",
              "    .dataframe tbody tr th:only-of-type {\n",
              "        vertical-align: middle;\n",
              "    }\n",
              "\n",
              "    .dataframe tbody tr th {\n",
              "        vertical-align: top;\n",
              "    }\n",
              "\n",
              "    .dataframe thead th {\n",
              "        text-align: right;\n",
              "    }\n",
              "</style>\n",
              "<table border=\"1\" class=\"dataframe\">\n",
              "  <thead>\n",
              "    <tr style=\"text-align: right;\">\n",
              "      <th></th>\n",
              "      <th>Open</th>\n",
              "      <th>High</th>\n",
              "      <th>Low</th>\n",
              "      <th>Close</th>\n",
              "      <th>Volume</th>\n",
              "    </tr>\n",
              "    <tr>\n",
              "      <th>Date</th>\n",
              "      <th></th>\n",
              "      <th></th>\n",
              "      <th></th>\n",
              "      <th></th>\n",
              "      <th></th>\n",
              "    </tr>\n",
              "  </thead>\n",
              "  <tbody>\n",
              "    <tr>\n",
              "      <th>2020-06-26</th>\n",
              "      <td>1432.63</td>\n",
              "      <td>1437.02</td>\n",
              "      <td>1355.00</td>\n",
              "      <td>1362.54</td>\n",
              "      <td>4882014</td>\n",
              "    </tr>\n",
              "    <tr>\n",
              "      <th>2020-06-25</th>\n",
              "      <td>1431.22</td>\n",
              "      <td>1442.32</td>\n",
              "      <td>1419.54</td>\n",
              "      <td>1441.10</td>\n",
              "      <td>1197907</td>\n",
              "    </tr>\n",
              "    <tr>\n",
              "      <th>2020-06-24</th>\n",
              "      <td>1463.28</td>\n",
              "      <td>1475.79</td>\n",
              "      <td>1430.00</td>\n",
              "      <td>1432.70</td>\n",
              "      <td>1579579</td>\n",
              "    </tr>\n",
              "    <tr>\n",
              "      <th>2020-06-23</th>\n",
              "      <td>1452.00</td>\n",
              "      <td>1475.20</td>\n",
              "      <td>1445.00</td>\n",
              "      <td>1463.98</td>\n",
              "      <td>1887583</td>\n",
              "    </tr>\n",
              "    <tr>\n",
              "      <th>2020-06-22</th>\n",
              "      <td>1425.01</td>\n",
              "      <td>1450.95</td>\n",
              "      <td>1419.19</td>\n",
              "      <td>1450.66</td>\n",
              "      <td>1472072</td>\n",
              "    </tr>\n",
              "    <tr>\n",
              "      <th>...</th>\n",
              "      <td>...</td>\n",
              "      <td>...</td>\n",
              "      <td>...</td>\n",
              "      <td>...</td>\n",
              "      <td>...</td>\n",
              "    </tr>\n",
              "    <tr>\n",
              "      <th>2015-07-06</th>\n",
              "      <td>542.25</td>\n",
              "      <td>548.58</td>\n",
              "      <td>542.09</td>\n",
              "      <td>545.62</td>\n",
              "      <td>1280600</td>\n",
              "    </tr>\n",
              "    <tr>\n",
              "      <th>2015-07-02</th>\n",
              "      <td>544.74</td>\n",
              "      <td>548.00</td>\n",
              "      <td>543.57</td>\n",
              "      <td>547.34</td>\n",
              "      <td>1406200</td>\n",
              "    </tr>\n",
              "    <tr>\n",
              "      <th>2015-07-01</th>\n",
              "      <td>543.66</td>\n",
              "      <td>545.81</td>\n",
              "      <td>539.76</td>\n",
              "      <td>543.30</td>\n",
              "      <td>1537900</td>\n",
              "    </tr>\n",
              "    <tr>\n",
              "      <th>2015-06-30</th>\n",
              "      <td>545.09</td>\n",
              "      <td>545.90</td>\n",
              "      <td>539.54</td>\n",
              "      <td>540.04</td>\n",
              "      <td>1725464</td>\n",
              "    </tr>\n",
              "    <tr>\n",
              "      <th>2015-06-29</th>\n",
              "      <td>546.75</td>\n",
              "      <td>550.90</td>\n",
              "      <td>540.24</td>\n",
              "      <td>541.25</td>\n",
              "      <td>1887800</td>\n",
              "    </tr>\n",
              "  </tbody>\n",
              "</table>\n",
              "<p>1259 rows × 5 columns</p>\n",
              "</div>"
            ],
            "text/plain": [
              "              Open    High     Low   Close   Volume\n",
              "Date                                               \n",
              "2020-06-26 1432.63 1437.02 1355.00 1362.54  4882014\n",
              "2020-06-25 1431.22 1442.32 1419.54 1441.10  1197907\n",
              "2020-06-24 1463.28 1475.79 1430.00 1432.70  1579579\n",
              "2020-06-23 1452.00 1475.20 1445.00 1463.98  1887583\n",
              "2020-06-22 1425.01 1450.95 1419.19 1450.66  1472072\n",
              "...            ...     ...     ...     ...      ...\n",
              "2015-07-06  542.25  548.58  542.09  545.62  1280600\n",
              "2015-07-02  544.74  548.00  543.57  547.34  1406200\n",
              "2015-07-01  543.66  545.81  539.76  543.30  1537900\n",
              "2015-06-30  545.09  545.90  539.54  540.04  1725464\n",
              "2015-06-29  546.75  550.90  540.24  541.25  1887800\n",
              "\n",
              "[1259 rows x 5 columns]"
            ]
          },
          "metadata": {
            "tags": []
          },
          "execution_count": 33
        }
      ]
    },
    {
      "cell_type": "code",
      "metadata": {
        "id": "6cv8JZkMKnCT",
        "colab_type": "code",
        "colab": {
          "base_uri": "https://localhost:8080/",
          "height": 34
        },
        "outputId": "50d2782e-a6e3-4400-bbef-787f0176c163"
      },
      "source": [
        "google.columns"
      ],
      "execution_count": null,
      "outputs": [
        {
          "output_type": "execute_result",
          "data": {
            "text/plain": [
              "Index(['Open', 'High', 'Low', 'Close', 'Volume'], dtype='object')"
            ]
          },
          "metadata": {
            "tags": []
          },
          "execution_count": 36
        }
      ]
    },
    {
      "cell_type": "code",
      "metadata": {
        "id": "2OvSKcjsLZKF",
        "colab_type": "code",
        "colab": {
          "base_uri": "https://localhost:8080/",
          "height": 450
        },
        "outputId": "70a97d0e-39a8-4402-bab3-e440fc2c9a4d"
      },
      "source": [
        "google.columns = ['Otwarcie','Najwyższy','Najniższy','Zamknięcie','Wolumen']\n",
        "google"
      ],
      "execution_count": null,
      "outputs": [
        {
          "output_type": "execute_result",
          "data": {
            "text/html": [
              "<div>\n",
              "<style scoped>\n",
              "    .dataframe tbody tr th:only-of-type {\n",
              "        vertical-align: middle;\n",
              "    }\n",
              "\n",
              "    .dataframe tbody tr th {\n",
              "        vertical-align: top;\n",
              "    }\n",
              "\n",
              "    .dataframe thead th {\n",
              "        text-align: right;\n",
              "    }\n",
              "</style>\n",
              "<table border=\"1\" class=\"dataframe\">\n",
              "  <thead>\n",
              "    <tr style=\"text-align: right;\">\n",
              "      <th></th>\n",
              "      <th>Otwarcie</th>\n",
              "      <th>Najwyższy</th>\n",
              "      <th>Najniższy</th>\n",
              "      <th>Zamknięcie</th>\n",
              "      <th>Wolumen</th>\n",
              "    </tr>\n",
              "    <tr>\n",
              "      <th>Date</th>\n",
              "      <th></th>\n",
              "      <th></th>\n",
              "      <th></th>\n",
              "      <th></th>\n",
              "      <th></th>\n",
              "    </tr>\n",
              "  </thead>\n",
              "  <tbody>\n",
              "    <tr>\n",
              "      <th>2020-06-26</th>\n",
              "      <td>1432.63</td>\n",
              "      <td>1437.02</td>\n",
              "      <td>1355.00</td>\n",
              "      <td>1362.54</td>\n",
              "      <td>4882014</td>\n",
              "    </tr>\n",
              "    <tr>\n",
              "      <th>2020-06-25</th>\n",
              "      <td>1431.22</td>\n",
              "      <td>1442.32</td>\n",
              "      <td>1419.54</td>\n",
              "      <td>1441.10</td>\n",
              "      <td>1197907</td>\n",
              "    </tr>\n",
              "    <tr>\n",
              "      <th>2020-06-24</th>\n",
              "      <td>1463.28</td>\n",
              "      <td>1475.79</td>\n",
              "      <td>1430.00</td>\n",
              "      <td>1432.70</td>\n",
              "      <td>1579579</td>\n",
              "    </tr>\n",
              "    <tr>\n",
              "      <th>2020-06-23</th>\n",
              "      <td>1452.00</td>\n",
              "      <td>1475.20</td>\n",
              "      <td>1445.00</td>\n",
              "      <td>1463.98</td>\n",
              "      <td>1887583</td>\n",
              "    </tr>\n",
              "    <tr>\n",
              "      <th>2020-06-22</th>\n",
              "      <td>1425.01</td>\n",
              "      <td>1450.95</td>\n",
              "      <td>1419.19</td>\n",
              "      <td>1450.66</td>\n",
              "      <td>1472072</td>\n",
              "    </tr>\n",
              "    <tr>\n",
              "      <th>...</th>\n",
              "      <td>...</td>\n",
              "      <td>...</td>\n",
              "      <td>...</td>\n",
              "      <td>...</td>\n",
              "      <td>...</td>\n",
              "    </tr>\n",
              "    <tr>\n",
              "      <th>2015-07-06</th>\n",
              "      <td>542.25</td>\n",
              "      <td>548.58</td>\n",
              "      <td>542.09</td>\n",
              "      <td>545.62</td>\n",
              "      <td>1280600</td>\n",
              "    </tr>\n",
              "    <tr>\n",
              "      <th>2015-07-02</th>\n",
              "      <td>544.74</td>\n",
              "      <td>548.00</td>\n",
              "      <td>543.57</td>\n",
              "      <td>547.34</td>\n",
              "      <td>1406200</td>\n",
              "    </tr>\n",
              "    <tr>\n",
              "      <th>2015-07-01</th>\n",
              "      <td>543.66</td>\n",
              "      <td>545.81</td>\n",
              "      <td>539.76</td>\n",
              "      <td>543.30</td>\n",
              "      <td>1537900</td>\n",
              "    </tr>\n",
              "    <tr>\n",
              "      <th>2015-06-30</th>\n",
              "      <td>545.09</td>\n",
              "      <td>545.90</td>\n",
              "      <td>539.54</td>\n",
              "      <td>540.04</td>\n",
              "      <td>1725464</td>\n",
              "    </tr>\n",
              "    <tr>\n",
              "      <th>2015-06-29</th>\n",
              "      <td>546.75</td>\n",
              "      <td>550.90</td>\n",
              "      <td>540.24</td>\n",
              "      <td>541.25</td>\n",
              "      <td>1887800</td>\n",
              "    </tr>\n",
              "  </tbody>\n",
              "</table>\n",
              "<p>1259 rows × 5 columns</p>\n",
              "</div>"
            ],
            "text/plain": [
              "            Otwarcie  Najwyższy  Najniższy  Zamknięcie  Wolumen\n",
              "Date                                                           \n",
              "2020-06-26   1432.63    1437.02    1355.00     1362.54  4882014\n",
              "2020-06-25   1431.22    1442.32    1419.54     1441.10  1197907\n",
              "2020-06-24   1463.28    1475.79    1430.00     1432.70  1579579\n",
              "2020-06-23   1452.00    1475.20    1445.00     1463.98  1887583\n",
              "2020-06-22   1425.01    1450.95    1419.19     1450.66  1472072\n",
              "...              ...        ...        ...         ...      ...\n",
              "2015-07-06    542.25     548.58     542.09      545.62  1280600\n",
              "2015-07-02    544.74     548.00     543.57      547.34  1406200\n",
              "2015-07-01    543.66     545.81     539.76      543.30  1537900\n",
              "2015-06-30    545.09     545.90     539.54      540.04  1725464\n",
              "2015-06-29    546.75     550.90     540.24      541.25  1887800\n",
              "\n",
              "[1259 rows x 5 columns]"
            ]
          },
          "metadata": {
            "tags": []
          },
          "execution_count": 38
        }
      ]
    },
    {
      "cell_type": "code",
      "metadata": {
        "id": "cANOzIKyL52S",
        "colab_type": "code",
        "colab": {}
      },
      "source": [
        ""
      ],
      "execution_count": null,
      "outputs": []
    }
  ]
}